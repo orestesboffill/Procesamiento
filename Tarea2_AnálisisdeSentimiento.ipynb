{
 "cells": [
  {
   "cell_type": "markdown",
   "id": "a140c82b",
   "metadata": {},
   "source": [
    "## Procesamiento y Clasificación de Datos\n",
    "\n",
    "#### Tarea 2 Análisis de Sentimiento\n",
    "#### Estudiante: Orestes Boffill Beltrán\n",
    "#### Matrícula: 2085377\n",
    "#### Maestría de Ciencia de Datos"
   ]
  },
  {
   "cell_type": "markdown",
   "id": "aace5beb",
   "metadata": {},
   "source": [
    "## Librerías"
   ]
  },
  {
   "cell_type": "code",
   "execution_count": 1,
   "id": "016fc3b2",
   "metadata": {
    "ExecuteTime": {
     "end_time": "2022-05-26T22:28:30.983456Z",
     "start_time": "2022-05-26T22:28:27.751801Z"
    }
   },
   "outputs": [],
   "source": [
    "# Tratamiento de datos\n",
    "# ==============================================================================\n",
    "import numpy as np\n",
    "import pandas as pd\n",
    "import string\n",
    "import re\n",
    "\n",
    "# Gráficos\n",
    "# ==============================================================================\n",
    "import matplotlib.pyplot as plt\n",
    "from matplotlib import style\n",
    "import seaborn as sns\n",
    "#style.use('ggplot') or plt.style.use('ggplot')\n",
    "\n",
    "# Preprocesado y modelado\n",
    "# ==============================================================================\n",
    "from sklearn import svm\n",
    "from sklearn.model_selection import train_test_split\n",
    "from sklearn.model_selection import GridSearchCV\n",
    "from sklearn.metrics import confusion_matrix\n",
    "from sklearn.feature_extraction.text import TfidfVectorizer\n",
    "import nltk\n",
    "#nltk.download('stopwords')\n",
    "from nltk.corpus import stopwords\n",
    "\n",
    "# Configuración warnings\n",
    "# ==============================================================================\n",
    "import warnings\n",
    "warnings.filterwarnings('ignore')"
   ]
  },
  {
   "cell_type": "markdown",
   "id": "09938b1b",
   "metadata": {
    "ExecuteTime": {
     "end_time": "2022-05-26T03:37:39.359685Z",
     "start_time": "2022-05-26T03:37:39.349690Z"
    }
   },
   "source": [
    "## Carga de la Base de Datos a analizar\n",
    "#### la Base de Datos contiene tweets y provienen originalmente de la biblioteca \"Data for Everyone de Crowdflower\", descargada desde: https://www.kaggle.com/datasets/crowdflower/first-gop-debate-twitter-sentiment\n",
    "#### Contiene decenas de miles de tweets sobre el debate republicano de principios de agosto en Ohio y se le pidió a los contribuyentes que hicieran análisis de sentimientos y de categorización de datos. Se preguntó a los colaboradores si el tweet era relevante, qué candidato se mencionó, qué tema se mencionó y luego cuál era el sentimiento para un tweet determinado. Los mensajes no relevantes del conjunto de datos cargado fueron eliminados previamente."
   ]
  },
  {
   "cell_type": "code",
   "execution_count": 2,
   "id": "c83eea86",
   "metadata": {
    "ExecuteTime": {
     "end_time": "2022-05-26T22:29:44.362618Z",
     "start_time": "2022-05-26T22:29:44.182359Z"
    }
   },
   "outputs": [
    {
     "data": {
      "text/html": [
       "<div>\n",
       "<style scoped>\n",
       "    .dataframe tbody tr th:only-of-type {\n",
       "        vertical-align: middle;\n",
       "    }\n",
       "\n",
       "    .dataframe tbody tr th {\n",
       "        vertical-align: top;\n",
       "    }\n",
       "\n",
       "    .dataframe thead th {\n",
       "        text-align: right;\n",
       "    }\n",
       "</style>\n",
       "<table border=\"1\" class=\"dataframe\">\n",
       "  <thead>\n",
       "    <tr style=\"text-align: right;\">\n",
       "      <th></th>\n",
       "      <th>id</th>\n",
       "      <th>candidate</th>\n",
       "      <th>candidate_confidence</th>\n",
       "      <th>relevant_yn</th>\n",
       "      <th>relevant_yn_confidence</th>\n",
       "      <th>sentiment</th>\n",
       "      <th>sentiment_confidence</th>\n",
       "      <th>subject_matter</th>\n",
       "      <th>subject_matter_confidence</th>\n",
       "      <th>candidate_gold</th>\n",
       "      <th>...</th>\n",
       "      <th>relevant_yn_gold</th>\n",
       "      <th>retweet_count</th>\n",
       "      <th>sentiment_gold</th>\n",
       "      <th>subject_matter_gold</th>\n",
       "      <th>text</th>\n",
       "      <th>tweet_coord</th>\n",
       "      <th>tweet_created</th>\n",
       "      <th>tweet_id</th>\n",
       "      <th>tweet_location</th>\n",
       "      <th>user_timezone</th>\n",
       "    </tr>\n",
       "  </thead>\n",
       "  <tbody>\n",
       "    <tr>\n",
       "      <th>0</th>\n",
       "      <td>1</td>\n",
       "      <td>No candidate mentioned</td>\n",
       "      <td>1.0</td>\n",
       "      <td>yes</td>\n",
       "      <td>1.0</td>\n",
       "      <td>Neutral</td>\n",
       "      <td>0.6578</td>\n",
       "      <td>None of the above</td>\n",
       "      <td>1.0000</td>\n",
       "      <td>NaN</td>\n",
       "      <td>...</td>\n",
       "      <td>NaN</td>\n",
       "      <td>5</td>\n",
       "      <td>NaN</td>\n",
       "      <td>NaN</td>\n",
       "      <td>RT @NancyLeeGrahn: How did everyone feel about...</td>\n",
       "      <td>NaN</td>\n",
       "      <td>2015-08-07 09:54:46 -0700</td>\n",
       "      <td>629697200650592256</td>\n",
       "      <td>NaN</td>\n",
       "      <td>Quito</td>\n",
       "    </tr>\n",
       "    <tr>\n",
       "      <th>1</th>\n",
       "      <td>2</td>\n",
       "      <td>Scott Walker</td>\n",
       "      <td>1.0</td>\n",
       "      <td>yes</td>\n",
       "      <td>1.0</td>\n",
       "      <td>Positive</td>\n",
       "      <td>0.6333</td>\n",
       "      <td>None of the above</td>\n",
       "      <td>1.0000</td>\n",
       "      <td>NaN</td>\n",
       "      <td>...</td>\n",
       "      <td>NaN</td>\n",
       "      <td>26</td>\n",
       "      <td>NaN</td>\n",
       "      <td>NaN</td>\n",
       "      <td>RT @ScottWalker: Didn't catch the full #GOPdeb...</td>\n",
       "      <td>NaN</td>\n",
       "      <td>2015-08-07 09:54:46 -0700</td>\n",
       "      <td>629697199560069120</td>\n",
       "      <td>NaN</td>\n",
       "      <td>NaN</td>\n",
       "    </tr>\n",
       "    <tr>\n",
       "      <th>2</th>\n",
       "      <td>3</td>\n",
       "      <td>No candidate mentioned</td>\n",
       "      <td>1.0</td>\n",
       "      <td>yes</td>\n",
       "      <td>1.0</td>\n",
       "      <td>Neutral</td>\n",
       "      <td>0.6629</td>\n",
       "      <td>None of the above</td>\n",
       "      <td>0.6629</td>\n",
       "      <td>NaN</td>\n",
       "      <td>...</td>\n",
       "      <td>NaN</td>\n",
       "      <td>27</td>\n",
       "      <td>NaN</td>\n",
       "      <td>NaN</td>\n",
       "      <td>RT @TJMShow: No mention of Tamir Rice and the ...</td>\n",
       "      <td>NaN</td>\n",
       "      <td>2015-08-07 09:54:46 -0700</td>\n",
       "      <td>629697199312482304</td>\n",
       "      <td>NaN</td>\n",
       "      <td>NaN</td>\n",
       "    </tr>\n",
       "    <tr>\n",
       "      <th>3</th>\n",
       "      <td>4</td>\n",
       "      <td>No candidate mentioned</td>\n",
       "      <td>1.0</td>\n",
       "      <td>yes</td>\n",
       "      <td>1.0</td>\n",
       "      <td>Positive</td>\n",
       "      <td>1.0000</td>\n",
       "      <td>None of the above</td>\n",
       "      <td>0.7039</td>\n",
       "      <td>NaN</td>\n",
       "      <td>...</td>\n",
       "      <td>NaN</td>\n",
       "      <td>138</td>\n",
       "      <td>NaN</td>\n",
       "      <td>NaN</td>\n",
       "      <td>RT @RobGeorge: That Carly Fiorina is trending ...</td>\n",
       "      <td>NaN</td>\n",
       "      <td>2015-08-07 09:54:45 -0700</td>\n",
       "      <td>629697197118861312</td>\n",
       "      <td>Texas</td>\n",
       "      <td>Central Time (US &amp; Canada)</td>\n",
       "    </tr>\n",
       "    <tr>\n",
       "      <th>4</th>\n",
       "      <td>5</td>\n",
       "      <td>Donald Trump</td>\n",
       "      <td>1.0</td>\n",
       "      <td>yes</td>\n",
       "      <td>1.0</td>\n",
       "      <td>Positive</td>\n",
       "      <td>0.7045</td>\n",
       "      <td>None of the above</td>\n",
       "      <td>1.0000</td>\n",
       "      <td>NaN</td>\n",
       "      <td>...</td>\n",
       "      <td>NaN</td>\n",
       "      <td>156</td>\n",
       "      <td>NaN</td>\n",
       "      <td>NaN</td>\n",
       "      <td>RT @DanScavino: #GOPDebate w/ @realDonaldTrump...</td>\n",
       "      <td>NaN</td>\n",
       "      <td>2015-08-07 09:54:45 -0700</td>\n",
       "      <td>629697196967903232</td>\n",
       "      <td>NaN</td>\n",
       "      <td>Arizona</td>\n",
       "    </tr>\n",
       "  </tbody>\n",
       "</table>\n",
       "<p>5 rows × 21 columns</p>\n",
       "</div>"
      ],
      "text/plain": [
       "   id               candidate  candidate_confidence relevant_yn  \\\n",
       "0   1  No candidate mentioned                   1.0         yes   \n",
       "1   2            Scott Walker                   1.0         yes   \n",
       "2   3  No candidate mentioned                   1.0         yes   \n",
       "3   4  No candidate mentioned                   1.0         yes   \n",
       "4   5            Donald Trump                   1.0         yes   \n",
       "\n",
       "   relevant_yn_confidence sentiment  sentiment_confidence     subject_matter  \\\n",
       "0                     1.0   Neutral                0.6578  None of the above   \n",
       "1                     1.0  Positive                0.6333  None of the above   \n",
       "2                     1.0   Neutral                0.6629  None of the above   \n",
       "3                     1.0  Positive                1.0000  None of the above   \n",
       "4                     1.0  Positive                0.7045  None of the above   \n",
       "\n",
       "   subject_matter_confidence candidate_gold  ... relevant_yn_gold  \\\n",
       "0                     1.0000            NaN  ...              NaN   \n",
       "1                     1.0000            NaN  ...              NaN   \n",
       "2                     0.6629            NaN  ...              NaN   \n",
       "3                     0.7039            NaN  ...              NaN   \n",
       "4                     1.0000            NaN  ...              NaN   \n",
       "\n",
       "  retweet_count  sentiment_gold subject_matter_gold  \\\n",
       "0             5             NaN                 NaN   \n",
       "1            26             NaN                 NaN   \n",
       "2            27             NaN                 NaN   \n",
       "3           138             NaN                 NaN   \n",
       "4           156             NaN                 NaN   \n",
       "\n",
       "                                                text tweet_coord  \\\n",
       "0  RT @NancyLeeGrahn: How did everyone feel about...         NaN   \n",
       "1  RT @ScottWalker: Didn't catch the full #GOPdeb...         NaN   \n",
       "2  RT @TJMShow: No mention of Tamir Rice and the ...         NaN   \n",
       "3  RT @RobGeorge: That Carly Fiorina is trending ...         NaN   \n",
       "4  RT @DanScavino: #GOPDebate w/ @realDonaldTrump...         NaN   \n",
       "\n",
       "               tweet_created            tweet_id  tweet_location  \\\n",
       "0  2015-08-07 09:54:46 -0700  629697200650592256             NaN   \n",
       "1  2015-08-07 09:54:46 -0700  629697199560069120             NaN   \n",
       "2  2015-08-07 09:54:46 -0700  629697199312482304             NaN   \n",
       "3  2015-08-07 09:54:45 -0700  629697197118861312           Texas   \n",
       "4  2015-08-07 09:54:45 -0700  629697196967903232             NaN   \n",
       "\n",
       "                user_timezone  \n",
       "0                       Quito  \n",
       "1                         NaN  \n",
       "2                         NaN  \n",
       "3  Central Time (US & Canada)  \n",
       "4                     Arizona  \n",
       "\n",
       "[5 rows x 21 columns]"
      ]
     },
     "execution_count": 2,
     "metadata": {},
     "output_type": "execute_result"
    }
   ],
   "source": [
    "df = pd.read_csv('E:/MCD/Documentos/Sentiment.csv')\n",
    "df.head()"
   ]
  },
  {
   "cell_type": "code",
   "execution_count": 3,
   "id": "c25be4d9",
   "metadata": {
    "ExecuteTime": {
     "end_time": "2022-05-26T22:29:47.348659Z",
     "start_time": "2022-05-26T22:29:47.318681Z"
    }
   },
   "outputs": [
    {
     "data": {
      "text/html": [
       "<div>\n",
       "<style scoped>\n",
       "    .dataframe tbody tr th:only-of-type {\n",
       "        vertical-align: middle;\n",
       "    }\n",
       "\n",
       "    .dataframe tbody tr th {\n",
       "        vertical-align: top;\n",
       "    }\n",
       "\n",
       "    .dataframe thead th {\n",
       "        text-align: right;\n",
       "    }\n",
       "</style>\n",
       "<table border=\"1\" class=\"dataframe\">\n",
       "  <thead>\n",
       "    <tr style=\"text-align: right;\">\n",
       "      <th></th>\n",
       "      <th>candidate</th>\n",
       "      <th>sentiment</th>\n",
       "      <th>sentiment_confidence</th>\n",
       "      <th>name</th>\n",
       "      <th>retweet_count</th>\n",
       "      <th>text</th>\n",
       "      <th>tweet_created</th>\n",
       "      <th>user_timezone</th>\n",
       "    </tr>\n",
       "  </thead>\n",
       "  <tbody>\n",
       "    <tr>\n",
       "      <th>0</th>\n",
       "      <td>No candidate mentioned</td>\n",
       "      <td>Neutral</td>\n",
       "      <td>0.6578</td>\n",
       "      <td>I_Am_Kenzi</td>\n",
       "      <td>5</td>\n",
       "      <td>RT @NancyLeeGrahn: How did everyone feel about...</td>\n",
       "      <td>2015-08-07 09:54:46 -0700</td>\n",
       "      <td>Quito</td>\n",
       "    </tr>\n",
       "    <tr>\n",
       "      <th>1</th>\n",
       "      <td>Scott Walker</td>\n",
       "      <td>Positive</td>\n",
       "      <td>0.6333</td>\n",
       "      <td>PeacefulQuest</td>\n",
       "      <td>26</td>\n",
       "      <td>RT @ScottWalker: Didn't catch the full #GOPdeb...</td>\n",
       "      <td>2015-08-07 09:54:46 -0700</td>\n",
       "      <td>NaN</td>\n",
       "    </tr>\n",
       "    <tr>\n",
       "      <th>2</th>\n",
       "      <td>No candidate mentioned</td>\n",
       "      <td>Neutral</td>\n",
       "      <td>0.6629</td>\n",
       "      <td>PussssyCroook</td>\n",
       "      <td>27</td>\n",
       "      <td>RT @TJMShow: No mention of Tamir Rice and the ...</td>\n",
       "      <td>2015-08-07 09:54:46 -0700</td>\n",
       "      <td>NaN</td>\n",
       "    </tr>\n",
       "    <tr>\n",
       "      <th>3</th>\n",
       "      <td>No candidate mentioned</td>\n",
       "      <td>Positive</td>\n",
       "      <td>1.0000</td>\n",
       "      <td>MattFromTexas31</td>\n",
       "      <td>138</td>\n",
       "      <td>RT @RobGeorge: That Carly Fiorina is trending ...</td>\n",
       "      <td>2015-08-07 09:54:45 -0700</td>\n",
       "      <td>Central Time (US &amp; Canada)</td>\n",
       "    </tr>\n",
       "    <tr>\n",
       "      <th>4</th>\n",
       "      <td>Donald Trump</td>\n",
       "      <td>Positive</td>\n",
       "      <td>0.7045</td>\n",
       "      <td>sharonDay5</td>\n",
       "      <td>156</td>\n",
       "      <td>RT @DanScavino: #GOPDebate w/ @realDonaldTrump...</td>\n",
       "      <td>2015-08-07 09:54:45 -0700</td>\n",
       "      <td>Arizona</td>\n",
       "    </tr>\n",
       "  </tbody>\n",
       "</table>\n",
       "</div>"
      ],
      "text/plain": [
       "                candidate sentiment  sentiment_confidence             name  \\\n",
       "0  No candidate mentioned   Neutral                0.6578       I_Am_Kenzi   \n",
       "1            Scott Walker  Positive                0.6333    PeacefulQuest   \n",
       "2  No candidate mentioned   Neutral                0.6629    PussssyCroook   \n",
       "3  No candidate mentioned  Positive                1.0000  MattFromTexas31   \n",
       "4            Donald Trump  Positive                0.7045       sharonDay5   \n",
       "\n",
       "   retweet_count                                               text  \\\n",
       "0              5  RT @NancyLeeGrahn: How did everyone feel about...   \n",
       "1             26  RT @ScottWalker: Didn't catch the full #GOPdeb...   \n",
       "2             27  RT @TJMShow: No mention of Tamir Rice and the ...   \n",
       "3            138  RT @RobGeorge: That Carly Fiorina is trending ...   \n",
       "4            156  RT @DanScavino: #GOPDebate w/ @realDonaldTrump...   \n",
       "\n",
       "               tweet_created               user_timezone  \n",
       "0  2015-08-07 09:54:46 -0700                       Quito  \n",
       "1  2015-08-07 09:54:46 -0700                         NaN  \n",
       "2  2015-08-07 09:54:46 -0700                         NaN  \n",
       "3  2015-08-07 09:54:45 -0700  Central Time (US & Canada)  \n",
       "4  2015-08-07 09:54:45 -0700                     Arizona  "
      ]
     },
     "execution_count": 3,
     "metadata": {},
     "output_type": "execute_result"
    }
   ],
   "source": [
    "dataset = df.drop(['id', 'candidate_confidence', 'relevant_yn', 'relevant_yn_confidence', 'subject_matter', 'subject_matter_confidence', 'candidate_gold', 'relevant_yn_gold','sentiment_gold','subject_matter_gold','tweet_coord','tweet_id','tweet_location'], axis =1)\n",
    "dataset.head()"
   ]
  },
  {
   "cell_type": "code",
   "execution_count": 4,
   "id": "f3e4559c",
   "metadata": {
    "ExecuteTime": {
     "end_time": "2022-05-26T22:29:51.351070Z",
     "start_time": "2022-05-26T22:29:51.334084Z"
    }
   },
   "outputs": [
    {
     "data": {
      "text/plain": [
       "(13871, 8)"
      ]
     },
     "execution_count": 4,
     "metadata": {},
     "output_type": "execute_result"
    }
   ],
   "source": [
    "dataset.shape"
   ]
  },
  {
   "cell_type": "code",
   "execution_count": 5,
   "id": "fcb7a94a",
   "metadata": {
    "ExecuteTime": {
     "end_time": "2022-05-26T22:29:57.651600Z",
     "start_time": "2022-05-26T22:29:57.615625Z"
    }
   },
   "outputs": [
    {
     "data": {
      "text/html": [
       "<div>\n",
       "<style scoped>\n",
       "    .dataframe tbody tr th:only-of-type {\n",
       "        vertical-align: middle;\n",
       "    }\n",
       "\n",
       "    .dataframe tbody tr th {\n",
       "        vertical-align: top;\n",
       "    }\n",
       "\n",
       "    .dataframe thead th {\n",
       "        text-align: right;\n",
       "    }\n",
       "</style>\n",
       "<table border=\"1\" class=\"dataframe\">\n",
       "  <thead>\n",
       "    <tr style=\"text-align: right;\">\n",
       "      <th></th>\n",
       "      <th>candidate</th>\n",
       "      <th>sentiment</th>\n",
       "      <th>sentiment_confidence</th>\n",
       "      <th>name</th>\n",
       "      <th>retweet_count</th>\n",
       "      <th>text</th>\n",
       "      <th>tweet_created</th>\n",
       "      <th>user_timezone</th>\n",
       "    </tr>\n",
       "  </thead>\n",
       "  <tbody>\n",
       "    <tr>\n",
       "      <th>1</th>\n",
       "      <td>Scott Walker</td>\n",
       "      <td>Positive</td>\n",
       "      <td>0.6333</td>\n",
       "      <td>PeacefulQuest</td>\n",
       "      <td>26</td>\n",
       "      <td>RT @ScottWalker: Didn't catch the full #GOPdeb...</td>\n",
       "      <td>2015-08-07 09:54:46 -0700</td>\n",
       "      <td>NaN</td>\n",
       "    </tr>\n",
       "    <tr>\n",
       "      <th>4</th>\n",
       "      <td>Donald Trump</td>\n",
       "      <td>Positive</td>\n",
       "      <td>0.7045</td>\n",
       "      <td>sharonDay5</td>\n",
       "      <td>156</td>\n",
       "      <td>RT @DanScavino: #GOPDebate w/ @realDonaldTrump...</td>\n",
       "      <td>2015-08-07 09:54:45 -0700</td>\n",
       "      <td>Arizona</td>\n",
       "    </tr>\n",
       "    <tr>\n",
       "      <th>5</th>\n",
       "      <td>Ted Cruz</td>\n",
       "      <td>Positive</td>\n",
       "      <td>0.6332</td>\n",
       "      <td>DRJohnson11</td>\n",
       "      <td>228</td>\n",
       "      <td>RT @GregAbbott_TX: @TedCruz: \"On my first day ...</td>\n",
       "      <td>2015-08-07 09:54:44 -0700</td>\n",
       "      <td>Central Time (US &amp; Canada)</td>\n",
       "    </tr>\n",
       "    <tr>\n",
       "      <th>8</th>\n",
       "      <td>Ben Carson</td>\n",
       "      <td>Negative</td>\n",
       "      <td>0.6889</td>\n",
       "      <td>kengpdx</td>\n",
       "      <td>0</td>\n",
       "      <td>Deer in the headlights RT @lizzwinstead: Ben C...</td>\n",
       "      <td>2015-08-07 09:54:44 -0700</td>\n",
       "      <td>Pacific Time (US &amp; Canada)</td>\n",
       "    </tr>\n",
       "    <tr>\n",
       "      <th>10</th>\n",
       "      <td>Donald Trump</td>\n",
       "      <td>Negative</td>\n",
       "      <td>1.0000</td>\n",
       "      <td>jnjsmom</td>\n",
       "      <td>0</td>\n",
       "      <td>@JGreenDC @realDonaldTrump In all fairness #Bi...</td>\n",
       "      <td>2015-08-07 09:54:42 -0700</td>\n",
       "      <td>Central Time (US &amp; Canada)</td>\n",
       "    </tr>\n",
       "  </tbody>\n",
       "</table>\n",
       "</div>"
      ],
      "text/plain": [
       "       candidate sentiment  sentiment_confidence           name  \\\n",
       "1   Scott Walker  Positive                0.6333  PeacefulQuest   \n",
       "4   Donald Trump  Positive                0.7045     sharonDay5   \n",
       "5       Ted Cruz  Positive                0.6332    DRJohnson11   \n",
       "8     Ben Carson  Negative                0.6889        kengpdx   \n",
       "10  Donald Trump  Negative                1.0000        jnjsmom   \n",
       "\n",
       "    retweet_count                                               text  \\\n",
       "1              26  RT @ScottWalker: Didn't catch the full #GOPdeb...   \n",
       "4             156  RT @DanScavino: #GOPDebate w/ @realDonaldTrump...   \n",
       "5             228  RT @GregAbbott_TX: @TedCruz: \"On my first day ...   \n",
       "8               0  Deer in the headlights RT @lizzwinstead: Ben C...   \n",
       "10              0  @JGreenDC @realDonaldTrump In all fairness #Bi...   \n",
       "\n",
       "                tweet_created               user_timezone  \n",
       "1   2015-08-07 09:54:46 -0700                         NaN  \n",
       "4   2015-08-07 09:54:45 -0700                     Arizona  \n",
       "5   2015-08-07 09:54:44 -0700  Central Time (US & Canada)  \n",
       "8   2015-08-07 09:54:44 -0700  Pacific Time (US & Canada)  \n",
       "10  2015-08-07 09:54:42 -0700  Central Time (US & Canada)  "
      ]
     },
     "execution_count": 5,
     "metadata": {},
     "output_type": "execute_result"
    }
   ],
   "source": [
    "onlypo = dataset[dataset['candidate']!='No candidate mentioned']\n",
    "onlypo.head()"
   ]
  },
  {
   "cell_type": "code",
   "execution_count": 6,
   "id": "5fec879b",
   "metadata": {
    "ExecuteTime": {
     "end_time": "2022-05-26T22:30:05.859512Z",
     "start_time": "2022-05-26T22:30:05.847518Z"
    }
   },
   "outputs": [
    {
     "data": {
      "text/plain": [
       "(6380, 8)"
      ]
     },
     "execution_count": 6,
     "metadata": {},
     "output_type": "execute_result"
    }
   ],
   "source": [
    "onlypo.shape"
   ]
  },
  {
   "cell_type": "code",
   "execution_count": 7,
   "id": "90863999",
   "metadata": {
    "ExecuteTime": {
     "end_time": "2022-05-26T22:30:11.155298Z",
     "start_time": "2022-05-26T22:30:11.130038Z"
    }
   },
   "outputs": [
    {
     "data": {
      "text/plain": [
       "(6380, 8)"
      ]
     },
     "execution_count": 7,
     "metadata": {},
     "output_type": "execute_result"
    }
   ],
   "source": [
    "onlypo = onlypo.fillna({\"candidate\":0})\n",
    "onlypo.shape"
   ]
  },
  {
   "cell_type": "code",
   "execution_count": 8,
   "id": "6ea6773e",
   "metadata": {
    "ExecuteTime": {
     "end_time": "2022-05-26T22:30:14.434377Z",
     "start_time": "2022-05-26T22:30:14.416390Z"
    }
   },
   "outputs": [
    {
     "data": {
      "text/plain": [
       "(6284, 8)"
      ]
     },
     "execution_count": 8,
     "metadata": {},
     "output_type": "execute_result"
    }
   ],
   "source": [
    "onlypo = onlypo[onlypo['candidate']!=0]\n",
    "onlypo.shape"
   ]
  },
  {
   "cell_type": "code",
   "execution_count": 9,
   "id": "6ddbae3f",
   "metadata": {
    "ExecuteTime": {
     "end_time": "2022-05-26T22:30:21.138866Z",
     "start_time": "2022-05-26T22:30:20.946986Z"
    }
   },
   "outputs": [
    {
     "data": {
      "text/html": [
       "<div>\n",
       "<style scoped>\n",
       "    .dataframe tbody tr th:only-of-type {\n",
       "        vertical-align: middle;\n",
       "    }\n",
       "\n",
       "    .dataframe tbody tr th {\n",
       "        vertical-align: top;\n",
       "    }\n",
       "\n",
       "    .dataframe thead th {\n",
       "        text-align: right;\n",
       "    }\n",
       "</style>\n",
       "<table border=\"1\" class=\"dataframe\">\n",
       "  <thead>\n",
       "    <tr style=\"text-align: right;\">\n",
       "      <th></th>\n",
       "      <th>candidate</th>\n",
       "      <th>sentiment</th>\n",
       "      <th>sentiment_confidence</th>\n",
       "      <th>name</th>\n",
       "      <th>retweet_count</th>\n",
       "      <th>text</th>\n",
       "      <th>tweet_created</th>\n",
       "      <th>user_timezone</th>\n",
       "      <th>Limpio</th>\n",
       "    </tr>\n",
       "  </thead>\n",
       "  <tbody>\n",
       "    <tr>\n",
       "      <th>0</th>\n",
       "      <td>No candidate mentioned</td>\n",
       "      <td>Neutral</td>\n",
       "      <td>0.6578</td>\n",
       "      <td>I_Am_Kenzi</td>\n",
       "      <td>5</td>\n",
       "      <td>RT @NancyLeeGrahn: How did everyone feel about...</td>\n",
       "      <td>2015-08-07 09:54:46 -0700</td>\n",
       "      <td>Quito</td>\n",
       "      <td>RT NancyLeeGrahn How did everyone feel about t...</td>\n",
       "    </tr>\n",
       "    <tr>\n",
       "      <th>1</th>\n",
       "      <td>Scott Walker</td>\n",
       "      <td>Positive</td>\n",
       "      <td>0.6333</td>\n",
       "      <td>PeacefulQuest</td>\n",
       "      <td>26</td>\n",
       "      <td>RT @ScottWalker: Didn't catch the full #GOPdeb...</td>\n",
       "      <td>2015-08-07 09:54:46 -0700</td>\n",
       "      <td>NaN</td>\n",
       "      <td>RT ScottWalker Didn t catch the full GOPdebate...</td>\n",
       "    </tr>\n",
       "    <tr>\n",
       "      <th>2</th>\n",
       "      <td>No candidate mentioned</td>\n",
       "      <td>Neutral</td>\n",
       "      <td>0.6629</td>\n",
       "      <td>PussssyCroook</td>\n",
       "      <td>27</td>\n",
       "      <td>RT @TJMShow: No mention of Tamir Rice and the ...</td>\n",
       "      <td>2015-08-07 09:54:46 -0700</td>\n",
       "      <td>NaN</td>\n",
       "      <td>RT TJMShow No mention of Tamir Rice and the GO...</td>\n",
       "    </tr>\n",
       "    <tr>\n",
       "      <th>3</th>\n",
       "      <td>No candidate mentioned</td>\n",
       "      <td>Positive</td>\n",
       "      <td>1.0000</td>\n",
       "      <td>MattFromTexas31</td>\n",
       "      <td>138</td>\n",
       "      <td>RT @RobGeorge: That Carly Fiorina is trending ...</td>\n",
       "      <td>2015-08-07 09:54:45 -0700</td>\n",
       "      <td>Central Time (US &amp; Canada)</td>\n",
       "      <td>RT RobGeorge That Carly Fiorina is trending ho...</td>\n",
       "    </tr>\n",
       "    <tr>\n",
       "      <th>4</th>\n",
       "      <td>Donald Trump</td>\n",
       "      <td>Positive</td>\n",
       "      <td>0.7045</td>\n",
       "      <td>sharonDay5</td>\n",
       "      <td>156</td>\n",
       "      <td>RT @DanScavino: #GOPDebate w/ @realDonaldTrump...</td>\n",
       "      <td>2015-08-07 09:54:45 -0700</td>\n",
       "      <td>Arizona</td>\n",
       "      <td>RT DanScavino GOPDebate w realDonaldTrump deli...</td>\n",
       "    </tr>\n",
       "  </tbody>\n",
       "</table>\n",
       "</div>"
      ],
      "text/plain": [
       "                candidate sentiment  sentiment_confidence             name  \\\n",
       "0  No candidate mentioned   Neutral                0.6578       I_Am_Kenzi   \n",
       "1            Scott Walker  Positive                0.6333    PeacefulQuest   \n",
       "2  No candidate mentioned   Neutral                0.6629    PussssyCroook   \n",
       "3  No candidate mentioned  Positive                1.0000  MattFromTexas31   \n",
       "4            Donald Trump  Positive                0.7045       sharonDay5   \n",
       "\n",
       "   retweet_count                                               text  \\\n",
       "0              5  RT @NancyLeeGrahn: How did everyone feel about...   \n",
       "1             26  RT @ScottWalker: Didn't catch the full #GOPdeb...   \n",
       "2             27  RT @TJMShow: No mention of Tamir Rice and the ...   \n",
       "3            138  RT @RobGeorge: That Carly Fiorina is trending ...   \n",
       "4            156  RT @DanScavino: #GOPDebate w/ @realDonaldTrump...   \n",
       "\n",
       "               tweet_created               user_timezone  \\\n",
       "0  2015-08-07 09:54:46 -0700                       Quito   \n",
       "1  2015-08-07 09:54:46 -0700                         NaN   \n",
       "2  2015-08-07 09:54:46 -0700                         NaN   \n",
       "3  2015-08-07 09:54:45 -0700  Central Time (US & Canada)   \n",
       "4  2015-08-07 09:54:45 -0700                     Arizona   \n",
       "\n",
       "                                              Limpio  \n",
       "0  RT NancyLeeGrahn How did everyone feel about t...  \n",
       "1  RT ScottWalker Didn t catch the full GOPdebate...  \n",
       "2  RT TJMShow No mention of Tamir Rice and the GO...  \n",
       "3  RT RobGeorge That Carly Fiorina is trending ho...  \n",
       "4  RT DanScavino GOPDebate w realDonaldTrump deli...  "
      ]
     },
     "execution_count": 9,
     "metadata": {},
     "output_type": "execute_result"
    }
   ],
   "source": [
    "import re\n",
    "\n",
    "# Define a function to clean the text\n",
    "def clean(text):\n",
    "    # Removes all special characters and numericals leaving the alphabets\n",
    "    text = re.sub('[^A-Za-z]+', ' ', text)\n",
    "    return text\n",
    "\n",
    "# Cleaning the text in the review column\n",
    "\n",
    "dataset['Limpio'] = dataset['text'].apply(clean)\n",
    "dataset.head()"
   ]
  },
  {
   "cell_type": "code",
   "execution_count": 10,
   "id": "b9bfde03",
   "metadata": {
    "ExecuteTime": {
     "end_time": "2022-05-26T22:32:47.155618Z",
     "start_time": "2022-05-26T22:30:22.826216Z"
    }
   },
   "outputs": [
    {
     "name": "stderr",
     "output_type": "stream",
     "text": [
      "[nltk_data] Downloading package punkt to\n",
      "[nltk_data]     C:\\Users\\Maestro\\AppData\\Roaming\\nltk_data...\n",
      "[nltk_data]   Package punkt is already up-to-date!\n",
      "[nltk_data] Downloading package omw-1.4 to\n",
      "[nltk_data]     C:\\Users\\Maestro\\AppData\\Roaming\\nltk_data...\n",
      "[nltk_data]   Package omw-1.4 is already up-to-date!\n",
      "[nltk_data] Downloading package stopwords to\n",
      "[nltk_data]     C:\\Users\\Maestro\\AppData\\Roaming\\nltk_data...\n",
      "[nltk_data]   Package stopwords is already up-to-date!\n",
      "[nltk_data] Downloading package wordnet to\n",
      "[nltk_data]     C:\\Users\\Maestro\\AppData\\Roaming\\nltk_data...\n",
      "[nltk_data]   Package wordnet is already up-to-date!\n",
      "[nltk_data] Downloading package averaged_perceptron_tagger to\n",
      "[nltk_data]     C:\\Users\\Maestro\\AppData\\Roaming\\nltk_data...\n",
      "[nltk_data]   Package averaged_perceptron_tagger is already up-to-\n",
      "[nltk_data]       date!\n"
     ]
    },
    {
     "data": {
      "text/html": [
       "<div>\n",
       "<style scoped>\n",
       "    .dataframe tbody tr th:only-of-type {\n",
       "        vertical-align: middle;\n",
       "    }\n",
       "\n",
       "    .dataframe tbody tr th {\n",
       "        vertical-align: top;\n",
       "    }\n",
       "\n",
       "    .dataframe thead th {\n",
       "        text-align: right;\n",
       "    }\n",
       "</style>\n",
       "<table border=\"1\" class=\"dataframe\">\n",
       "  <thead>\n",
       "    <tr style=\"text-align: right;\">\n",
       "      <th></th>\n",
       "      <th>candidate</th>\n",
       "      <th>sentiment</th>\n",
       "      <th>sentiment_confidence</th>\n",
       "      <th>name</th>\n",
       "      <th>retweet_count</th>\n",
       "      <th>text</th>\n",
       "      <th>tweet_created</th>\n",
       "      <th>user_timezone</th>\n",
       "      <th>Limpio</th>\n",
       "      <th>POS</th>\n",
       "    </tr>\n",
       "  </thead>\n",
       "  <tbody>\n",
       "    <tr>\n",
       "      <th>0</th>\n",
       "      <td>No candidate mentioned</td>\n",
       "      <td>Neutral</td>\n",
       "      <td>0.6578</td>\n",
       "      <td>I_Am_Kenzi</td>\n",
       "      <td>5</td>\n",
       "      <td>RT @NancyLeeGrahn: How did everyone feel about...</td>\n",
       "      <td>2015-08-07 09:54:46 -0700</td>\n",
       "      <td>Quito</td>\n",
       "      <td>RT NancyLeeGrahn How did everyone feel about t...</td>\n",
       "      <td>[(RT, n), (NancyLeeGrahn, n), (everyone, n), (...</td>\n",
       "    </tr>\n",
       "    <tr>\n",
       "      <th>1</th>\n",
       "      <td>Scott Walker</td>\n",
       "      <td>Positive</td>\n",
       "      <td>0.6333</td>\n",
       "      <td>PeacefulQuest</td>\n",
       "      <td>26</td>\n",
       "      <td>RT @ScottWalker: Didn't catch the full #GOPdeb...</td>\n",
       "      <td>2015-08-07 09:54:46 -0700</td>\n",
       "      <td>NaN</td>\n",
       "      <td>RT ScottWalker Didn t catch the full GOPdebate...</td>\n",
       "      <td>[(RT, n), (ScottWalker, n), (catch, v), (full,...</td>\n",
       "    </tr>\n",
       "    <tr>\n",
       "      <th>2</th>\n",
       "      <td>No candidate mentioned</td>\n",
       "      <td>Neutral</td>\n",
       "      <td>0.6629</td>\n",
       "      <td>PussssyCroook</td>\n",
       "      <td>27</td>\n",
       "      <td>RT @TJMShow: No mention of Tamir Rice and the ...</td>\n",
       "      <td>2015-08-07 09:54:46 -0700</td>\n",
       "      <td>NaN</td>\n",
       "      <td>RT TJMShow No mention of Tamir Rice and the GO...</td>\n",
       "      <td>[(RT, n), (TJMShow, n), (mention, n), (Tamir, ...</td>\n",
       "    </tr>\n",
       "    <tr>\n",
       "      <th>3</th>\n",
       "      <td>No candidate mentioned</td>\n",
       "      <td>Positive</td>\n",
       "      <td>1.0000</td>\n",
       "      <td>MattFromTexas31</td>\n",
       "      <td>138</td>\n",
       "      <td>RT @RobGeorge: That Carly Fiorina is trending ...</td>\n",
       "      <td>2015-08-07 09:54:45 -0700</td>\n",
       "      <td>Central Time (US &amp; Canada)</td>\n",
       "      <td>RT RobGeorge That Carly Fiorina is trending ho...</td>\n",
       "      <td>[(RT, n), (RobGeorge, n), (Carly, n), (Fiorina...</td>\n",
       "    </tr>\n",
       "    <tr>\n",
       "      <th>4</th>\n",
       "      <td>Donald Trump</td>\n",
       "      <td>Positive</td>\n",
       "      <td>0.7045</td>\n",
       "      <td>sharonDay5</td>\n",
       "      <td>156</td>\n",
       "      <td>RT @DanScavino: #GOPDebate w/ @realDonaldTrump...</td>\n",
       "      <td>2015-08-07 09:54:45 -0700</td>\n",
       "      <td>Arizona</td>\n",
       "      <td>RT DanScavino GOPDebate w realDonaldTrump deli...</td>\n",
       "      <td>[(RT, n), (DanScavino, n), (GOPDebate, n), (w,...</td>\n",
       "    </tr>\n",
       "  </tbody>\n",
       "</table>\n",
       "</div>"
      ],
      "text/plain": [
       "                candidate sentiment  sentiment_confidence             name  \\\n",
       "0  No candidate mentioned   Neutral                0.6578       I_Am_Kenzi   \n",
       "1            Scott Walker  Positive                0.6333    PeacefulQuest   \n",
       "2  No candidate mentioned   Neutral                0.6629    PussssyCroook   \n",
       "3  No candidate mentioned  Positive                1.0000  MattFromTexas31   \n",
       "4            Donald Trump  Positive                0.7045       sharonDay5   \n",
       "\n",
       "   retweet_count                                               text  \\\n",
       "0              5  RT @NancyLeeGrahn: How did everyone feel about...   \n",
       "1             26  RT @ScottWalker: Didn't catch the full #GOPdeb...   \n",
       "2             27  RT @TJMShow: No mention of Tamir Rice and the ...   \n",
       "3            138  RT @RobGeorge: That Carly Fiorina is trending ...   \n",
       "4            156  RT @DanScavino: #GOPDebate w/ @realDonaldTrump...   \n",
       "\n",
       "               tweet_created               user_timezone  \\\n",
       "0  2015-08-07 09:54:46 -0700                       Quito   \n",
       "1  2015-08-07 09:54:46 -0700                         NaN   \n",
       "2  2015-08-07 09:54:46 -0700                         NaN   \n",
       "3  2015-08-07 09:54:45 -0700  Central Time (US & Canada)   \n",
       "4  2015-08-07 09:54:45 -0700                     Arizona   \n",
       "\n",
       "                                              Limpio  \\\n",
       "0  RT NancyLeeGrahn How did everyone feel about t...   \n",
       "1  RT ScottWalker Didn t catch the full GOPdebate...   \n",
       "2  RT TJMShow No mention of Tamir Rice and the GO...   \n",
       "3  RT RobGeorge That Carly Fiorina is trending ho...   \n",
       "4  RT DanScavino GOPDebate w realDonaldTrump deli...   \n",
       "\n",
       "                                                 POS  \n",
       "0  [(RT, n), (NancyLeeGrahn, n), (everyone, n), (...  \n",
       "1  [(RT, n), (ScottWalker, n), (catch, v), (full,...  \n",
       "2  [(RT, n), (TJMShow, n), (mention, n), (Tamir, ...  \n",
       "3  [(RT, n), (RobGeorge, n), (Carly, n), (Fiorina...  \n",
       "4  [(RT, n), (DanScavino, n), (GOPDebate, n), (w,...  "
      ]
     },
     "execution_count": 10,
     "metadata": {},
     "output_type": "execute_result"
    }
   ],
   "source": [
    "import nltk\n",
    "nltk.download('punkt')\n",
    "nltk.download('omw-1.4')\n",
    "from nltk.tokenize import word_tokenize\n",
    "from nltk import pos_tag\n",
    "nltk.download('stopwords')\n",
    "from nltk.corpus import stopwords\n",
    "nltk.download('wordnet')\n",
    "from nltk.corpus import wordnet\n",
    "nltk.download('averaged_perceptron_tagger')\n",
    "\n",
    "# POS tagger dictionary\n",
    "pos_dict = {'J':wordnet.ADJ, 'V':wordnet.VERB, 'N':wordnet.NOUN, 'R':wordnet.ADV}\n",
    "\n",
    "def token_stop_pos(text):\n",
    "    tags = pos_tag(word_tokenize(text))\n",
    "    newlist = []\n",
    "    for word, tag in tags:\n",
    "        if word.lower() not in set(stopwords.words('english')):\n",
    "            newlist.append(tuple([word, pos_dict.get(tag[0])]))\n",
    "    return newlist\n",
    "\n",
    "dataset['POS'] = dataset['Limpio'].apply(token_stop_pos)\n",
    "dataset.head()"
   ]
  },
  {
   "cell_type": "code",
   "execution_count": 11,
   "id": "d761e115",
   "metadata": {
    "ExecuteTime": {
     "end_time": "2022-05-26T22:32:48.478802Z",
     "start_time": "2022-05-26T22:32:47.159613Z"
    }
   },
   "outputs": [
    {
     "data": {
      "text/html": [
       "<div>\n",
       "<style scoped>\n",
       "    .dataframe tbody tr th:only-of-type {\n",
       "        vertical-align: middle;\n",
       "    }\n",
       "\n",
       "    .dataframe tbody tr th {\n",
       "        vertical-align: top;\n",
       "    }\n",
       "\n",
       "    .dataframe thead th {\n",
       "        text-align: right;\n",
       "    }\n",
       "</style>\n",
       "<table border=\"1\" class=\"dataframe\">\n",
       "  <thead>\n",
       "    <tr style=\"text-align: right;\">\n",
       "      <th></th>\n",
       "      <th>candidate</th>\n",
       "      <th>sentiment</th>\n",
       "      <th>sentiment_confidence</th>\n",
       "      <th>name</th>\n",
       "      <th>retweet_count</th>\n",
       "      <th>text</th>\n",
       "      <th>tweet_created</th>\n",
       "      <th>user_timezone</th>\n",
       "      <th>Limpio</th>\n",
       "      <th>POS</th>\n",
       "      <th>Lemma</th>\n",
       "    </tr>\n",
       "  </thead>\n",
       "  <tbody>\n",
       "    <tr>\n",
       "      <th>0</th>\n",
       "      <td>No candidate mentioned</td>\n",
       "      <td>Neutral</td>\n",
       "      <td>0.6578</td>\n",
       "      <td>I_Am_Kenzi</td>\n",
       "      <td>5</td>\n",
       "      <td>RT @NancyLeeGrahn: How did everyone feel about...</td>\n",
       "      <td>2015-08-07 09:54:46 -0700</td>\n",
       "      <td>Quito</td>\n",
       "      <td>RT NancyLeeGrahn How did everyone feel about t...</td>\n",
       "      <td>[(RT, n), (NancyLeeGrahn, n), (everyone, n), (...</td>\n",
       "      <td>RT NancyLeeGrahn everyone feel Climate Chang...</td>\n",
       "    </tr>\n",
       "    <tr>\n",
       "      <th>1</th>\n",
       "      <td>Scott Walker</td>\n",
       "      <td>Positive</td>\n",
       "      <td>0.6333</td>\n",
       "      <td>PeacefulQuest</td>\n",
       "      <td>26</td>\n",
       "      <td>RT @ScottWalker: Didn't catch the full #GOPdeb...</td>\n",
       "      <td>2015-08-07 09:54:46 -0700</td>\n",
       "      <td>NaN</td>\n",
       "      <td>RT ScottWalker Didn t catch the full GOPdebate...</td>\n",
       "      <td>[(RT, n), (ScottWalker, n), (catch, v), (full,...</td>\n",
       "      <td>RT ScottWalker catch full GOPdebate last nig...</td>\n",
       "    </tr>\n",
       "    <tr>\n",
       "      <th>2</th>\n",
       "      <td>No candidate mentioned</td>\n",
       "      <td>Neutral</td>\n",
       "      <td>0.6629</td>\n",
       "      <td>PussssyCroook</td>\n",
       "      <td>27</td>\n",
       "      <td>RT @TJMShow: No mention of Tamir Rice and the ...</td>\n",
       "      <td>2015-08-07 09:54:46 -0700</td>\n",
       "      <td>NaN</td>\n",
       "      <td>RT TJMShow No mention of Tamir Rice and the GO...</td>\n",
       "      <td>[(RT, n), (TJMShow, n), (mention, n), (Tamir, ...</td>\n",
       "      <td>RT TJMShow mention Tamir Rice GOPDebate hold...</td>\n",
       "    </tr>\n",
       "    <tr>\n",
       "      <th>3</th>\n",
       "      <td>No candidate mentioned</td>\n",
       "      <td>Positive</td>\n",
       "      <td>1.0000</td>\n",
       "      <td>MattFromTexas31</td>\n",
       "      <td>138</td>\n",
       "      <td>RT @RobGeorge: That Carly Fiorina is trending ...</td>\n",
       "      <td>2015-08-07 09:54:45 -0700</td>\n",
       "      <td>Central Time (US &amp; Canada)</td>\n",
       "      <td>RT RobGeorge That Carly Fiorina is trending ho...</td>\n",
       "      <td>[(RT, n), (RobGeorge, n), (Carly, n), (Fiorina...</td>\n",
       "      <td>RT RobGeorge Carly Fiorina trend hour debate...</td>\n",
       "    </tr>\n",
       "    <tr>\n",
       "      <th>4</th>\n",
       "      <td>Donald Trump</td>\n",
       "      <td>Positive</td>\n",
       "      <td>0.7045</td>\n",
       "      <td>sharonDay5</td>\n",
       "      <td>156</td>\n",
       "      <td>RT @DanScavino: #GOPDebate w/ @realDonaldTrump...</td>\n",
       "      <td>2015-08-07 09:54:45 -0700</td>\n",
       "      <td>Arizona</td>\n",
       "      <td>RT DanScavino GOPDebate w realDonaldTrump deli...</td>\n",
       "      <td>[(RT, n), (DanScavino, n), (GOPDebate, n), (w,...</td>\n",
       "      <td>RT DanScavino GOPDebate w realDonaldTrump de...</td>\n",
       "    </tr>\n",
       "  </tbody>\n",
       "</table>\n",
       "</div>"
      ],
      "text/plain": [
       "                candidate sentiment  sentiment_confidence             name  \\\n",
       "0  No candidate mentioned   Neutral                0.6578       I_Am_Kenzi   \n",
       "1            Scott Walker  Positive                0.6333    PeacefulQuest   \n",
       "2  No candidate mentioned   Neutral                0.6629    PussssyCroook   \n",
       "3  No candidate mentioned  Positive                1.0000  MattFromTexas31   \n",
       "4            Donald Trump  Positive                0.7045       sharonDay5   \n",
       "\n",
       "   retweet_count                                               text  \\\n",
       "0              5  RT @NancyLeeGrahn: How did everyone feel about...   \n",
       "1             26  RT @ScottWalker: Didn't catch the full #GOPdeb...   \n",
       "2             27  RT @TJMShow: No mention of Tamir Rice and the ...   \n",
       "3            138  RT @RobGeorge: That Carly Fiorina is trending ...   \n",
       "4            156  RT @DanScavino: #GOPDebate w/ @realDonaldTrump...   \n",
       "\n",
       "               tweet_created               user_timezone  \\\n",
       "0  2015-08-07 09:54:46 -0700                       Quito   \n",
       "1  2015-08-07 09:54:46 -0700                         NaN   \n",
       "2  2015-08-07 09:54:46 -0700                         NaN   \n",
       "3  2015-08-07 09:54:45 -0700  Central Time (US & Canada)   \n",
       "4  2015-08-07 09:54:45 -0700                     Arizona   \n",
       "\n",
       "                                              Limpio  \\\n",
       "0  RT NancyLeeGrahn How did everyone feel about t...   \n",
       "1  RT ScottWalker Didn t catch the full GOPdebate...   \n",
       "2  RT TJMShow No mention of Tamir Rice and the GO...   \n",
       "3  RT RobGeorge That Carly Fiorina is trending ho...   \n",
       "4  RT DanScavino GOPDebate w realDonaldTrump deli...   \n",
       "\n",
       "                                                 POS  \\\n",
       "0  [(RT, n), (NancyLeeGrahn, n), (everyone, n), (...   \n",
       "1  [(RT, n), (ScottWalker, n), (catch, v), (full,...   \n",
       "2  [(RT, n), (TJMShow, n), (mention, n), (Tamir, ...   \n",
       "3  [(RT, n), (RobGeorge, n), (Carly, n), (Fiorina...   \n",
       "4  [(RT, n), (DanScavino, n), (GOPDebate, n), (w,...   \n",
       "\n",
       "                                               Lemma  \n",
       "0    RT NancyLeeGrahn everyone feel Climate Chang...  \n",
       "1    RT ScottWalker catch full GOPdebate last nig...  \n",
       "2    RT TJMShow mention Tamir Rice GOPDebate hold...  \n",
       "3    RT RobGeorge Carly Fiorina trend hour debate...  \n",
       "4    RT DanScavino GOPDebate w realDonaldTrump de...  "
      ]
     },
     "execution_count": 11,
     "metadata": {},
     "output_type": "execute_result"
    }
   ],
   "source": [
    "from nltk.stem import WordNetLemmatizer\n",
    "wordnet_lemmatizer = WordNetLemmatizer()\n",
    "\n",
    "def lemmatize(pos_data):\n",
    "    lemma_rew = \" \"\n",
    "    for word, pos in pos_data:\n",
    "        if not pos: \n",
    "            lemma = word\n",
    "            lemma_rew = lemma_rew + \" \" + lemma\n",
    "        else:  \n",
    "            lemma = wordnet_lemmatizer.lemmatize(word, pos=pos)\n",
    "            lemma_rew = lemma_rew + \" \" + lemma\n",
    "    return lemma_rew\n",
    "    \n",
    "dataset['Lemma'] = dataset['POS'].apply(lemmatize)\n",
    "dataset.head()"
   ]
  },
  {
   "cell_type": "code",
   "execution_count": 12,
   "id": "f1488323",
   "metadata": {
    "ExecuteTime": {
     "end_time": "2022-05-26T22:32:48.509782Z",
     "start_time": "2022-05-26T22:32:48.480799Z"
    }
   },
   "outputs": [
    {
     "data": {
      "text/html": [
       "<div>\n",
       "<style scoped>\n",
       "    .dataframe tbody tr th:only-of-type {\n",
       "        vertical-align: middle;\n",
       "    }\n",
       "\n",
       "    .dataframe tbody tr th {\n",
       "        vertical-align: top;\n",
       "    }\n",
       "\n",
       "    .dataframe thead th {\n",
       "        text-align: right;\n",
       "    }\n",
       "</style>\n",
       "<table border=\"1\" class=\"dataframe\">\n",
       "  <thead>\n",
       "    <tr style=\"text-align: right;\">\n",
       "      <th></th>\n",
       "      <th>text</th>\n",
       "      <th>Lemma</th>\n",
       "    </tr>\n",
       "  </thead>\n",
       "  <tbody>\n",
       "    <tr>\n",
       "      <th>0</th>\n",
       "      <td>RT @NancyLeeGrahn: How did everyone feel about...</td>\n",
       "      <td>RT NancyLeeGrahn everyone feel Climate Chang...</td>\n",
       "    </tr>\n",
       "    <tr>\n",
       "      <th>1</th>\n",
       "      <td>RT @ScottWalker: Didn't catch the full #GOPdeb...</td>\n",
       "      <td>RT ScottWalker catch full GOPdebate last nig...</td>\n",
       "    </tr>\n",
       "    <tr>\n",
       "      <th>2</th>\n",
       "      <td>RT @TJMShow: No mention of Tamir Rice and the ...</td>\n",
       "      <td>RT TJMShow mention Tamir Rice GOPDebate hold...</td>\n",
       "    </tr>\n",
       "    <tr>\n",
       "      <th>3</th>\n",
       "      <td>RT @RobGeorge: That Carly Fiorina is trending ...</td>\n",
       "      <td>RT RobGeorge Carly Fiorina trend hour debate...</td>\n",
       "    </tr>\n",
       "    <tr>\n",
       "      <th>4</th>\n",
       "      <td>RT @DanScavino: #GOPDebate w/ @realDonaldTrump...</td>\n",
       "      <td>RT DanScavino GOPDebate w realDonaldTrump de...</td>\n",
       "    </tr>\n",
       "    <tr>\n",
       "      <th>...</th>\n",
       "      <td>...</td>\n",
       "      <td>...</td>\n",
       "    </tr>\n",
       "    <tr>\n",
       "      <th>13866</th>\n",
       "      <td>RT @cappy_yarbrough: Love to see men who will ...</td>\n",
       "      <td>RT cappy yarbrough Love see men never face p...</td>\n",
       "    </tr>\n",
       "    <tr>\n",
       "      <th>13867</th>\n",
       "      <td>RT @georgehenryw: Who thought Huckabee exceede...</td>\n",
       "      <td>RT georgehenryw think Huckabee exceed expect...</td>\n",
       "    </tr>\n",
       "    <tr>\n",
       "      <th>13868</th>\n",
       "      <td>RT @Lrihendry: #TedCruz As President, I will a...</td>\n",
       "      <td>RT Lrihendry TedCruz President always tell t...</td>\n",
       "    </tr>\n",
       "    <tr>\n",
       "      <th>13869</th>\n",
       "      <td>RT @JRehling: #GOPDebate Donald Trump says tha...</td>\n",
       "      <td>RT JRehling GOPDebate Donald Trump say time ...</td>\n",
       "    </tr>\n",
       "    <tr>\n",
       "      <th>13870</th>\n",
       "      <td>RT @Lrihendry: #TedCruz headed into the Presid...</td>\n",
       "      <td>RT Lrihendry TedCruz head Presidential Debat...</td>\n",
       "    </tr>\n",
       "  </tbody>\n",
       "</table>\n",
       "<p>13871 rows × 2 columns</p>\n",
       "</div>"
      ],
      "text/plain": [
       "                                                    text  \\\n",
       "0      RT @NancyLeeGrahn: How did everyone feel about...   \n",
       "1      RT @ScottWalker: Didn't catch the full #GOPdeb...   \n",
       "2      RT @TJMShow: No mention of Tamir Rice and the ...   \n",
       "3      RT @RobGeorge: That Carly Fiorina is trending ...   \n",
       "4      RT @DanScavino: #GOPDebate w/ @realDonaldTrump...   \n",
       "...                                                  ...   \n",
       "13866  RT @cappy_yarbrough: Love to see men who will ...   \n",
       "13867  RT @georgehenryw: Who thought Huckabee exceede...   \n",
       "13868  RT @Lrihendry: #TedCruz As President, I will a...   \n",
       "13869  RT @JRehling: #GOPDebate Donald Trump says tha...   \n",
       "13870  RT @Lrihendry: #TedCruz headed into the Presid...   \n",
       "\n",
       "                                                   Lemma  \n",
       "0        RT NancyLeeGrahn everyone feel Climate Chang...  \n",
       "1        RT ScottWalker catch full GOPdebate last nig...  \n",
       "2        RT TJMShow mention Tamir Rice GOPDebate hold...  \n",
       "3        RT RobGeorge Carly Fiorina trend hour debate...  \n",
       "4        RT DanScavino GOPDebate w realDonaldTrump de...  \n",
       "...                                                  ...  \n",
       "13866    RT cappy yarbrough Love see men never face p...  \n",
       "13867    RT georgehenryw think Huckabee exceed expect...  \n",
       "13868    RT Lrihendry TedCruz President always tell t...  \n",
       "13869    RT JRehling GOPDebate Donald Trump say time ...  \n",
       "13870    RT Lrihendry TedCruz head Presidential Debat...  \n",
       "\n",
       "[13871 rows x 2 columns]"
      ]
     },
     "execution_count": 12,
     "metadata": {},
     "output_type": "execute_result"
    }
   ],
   "source": [
    "dataset[['text', 'Lemma']]"
   ]
  },
  {
   "cell_type": "code",
   "execution_count": 13,
   "id": "19f59d75",
   "metadata": {
    "ExecuteTime": {
     "end_time": "2022-05-26T22:32:48.586736Z",
     "start_time": "2022-05-26T22:32:48.515780Z"
    }
   },
   "outputs": [],
   "source": [
    "from textblob import TextBlob\n",
    "\n",
    "# function to calculate subjectivity \n",
    "def getSubjectivity(review):\n",
    "    return TextBlob(review).sentiment.subjectivity\n",
    "\n",
    "# function to calculate polarity\n",
    "def getPolarity(review):\n",
    "    return TextBlob(review).sentiment.polarity\n",
    "\n",
    "# function to analyze the reviews\n",
    "def analysis(score):\n",
    "    if score < 0:\n",
    "        return 'Negative'\n",
    "    elif score == 0:\n",
    "        return 'Neutral'\n",
    "    else:\n",
    "        return 'Positive'"
   ]
  },
  {
   "cell_type": "code",
   "execution_count": 14,
   "id": "b0d1db86",
   "metadata": {
    "ExecuteTime": {
     "end_time": "2022-05-26T22:35:10.148624Z",
     "start_time": "2022-05-26T22:35:10.117649Z"
    }
   },
   "outputs": [],
   "source": [
    "fin_data = pd.DataFrame(dataset[['text', 'Lemma']])"
   ]
  },
  {
   "cell_type": "code",
   "execution_count": 15,
   "id": "a50bf374",
   "metadata": {
    "ExecuteTime": {
     "end_time": "2022-05-26T22:35:15.264516Z",
     "start_time": "2022-05-26T22:35:11.615763Z"
    }
   },
   "outputs": [
    {
     "data": {
      "text/html": [
       "<div>\n",
       "<style scoped>\n",
       "    .dataframe tbody tr th:only-of-type {\n",
       "        vertical-align: middle;\n",
       "    }\n",
       "\n",
       "    .dataframe tbody tr th {\n",
       "        vertical-align: top;\n",
       "    }\n",
       "\n",
       "    .dataframe thead th {\n",
       "        text-align: right;\n",
       "    }\n",
       "</style>\n",
       "<table border=\"1\" class=\"dataframe\">\n",
       "  <thead>\n",
       "    <tr style=\"text-align: right;\">\n",
       "      <th></th>\n",
       "      <th>text</th>\n",
       "      <th>Lemma</th>\n",
       "      <th>Polarity</th>\n",
       "      <th>Analysis</th>\n",
       "    </tr>\n",
       "  </thead>\n",
       "  <tbody>\n",
       "    <tr>\n",
       "      <th>0</th>\n",
       "      <td>RT @NancyLeeGrahn: How did everyone feel about...</td>\n",
       "      <td>RT NancyLeeGrahn everyone feel Climate Chang...</td>\n",
       "      <td>0.1250</td>\n",
       "      <td>Positive</td>\n",
       "    </tr>\n",
       "    <tr>\n",
       "      <th>1</th>\n",
       "      <td>RT @ScottWalker: Didn't catch the full #GOPdeb...</td>\n",
       "      <td>RT ScottWalker catch full GOPdebate last nig...</td>\n",
       "      <td>0.3375</td>\n",
       "      <td>Positive</td>\n",
       "    </tr>\n",
       "    <tr>\n",
       "      <th>2</th>\n",
       "      <td>RT @TJMShow: No mention of Tamir Rice and the ...</td>\n",
       "      <td>RT TJMShow mention Tamir Rice GOPDebate hold...</td>\n",
       "      <td>0.1000</td>\n",
       "      <td>Positive</td>\n",
       "    </tr>\n",
       "    <tr>\n",
       "      <th>3</th>\n",
       "      <td>RT @RobGeorge: That Carly Fiorina is trending ...</td>\n",
       "      <td>RT RobGeorge Carly Fiorina trend hour debate...</td>\n",
       "      <td>0.1000</td>\n",
       "      <td>Positive</td>\n",
       "    </tr>\n",
       "    <tr>\n",
       "      <th>4</th>\n",
       "      <td>RT @DanScavino: #GOPDebate w/ @realDonaldTrump...</td>\n",
       "      <td>RT DanScavino GOPDebate w realDonaldTrump de...</td>\n",
       "      <td>0.1600</td>\n",
       "      <td>Positive</td>\n",
       "    </tr>\n",
       "  </tbody>\n",
       "</table>\n",
       "</div>"
      ],
      "text/plain": [
       "                                                text  \\\n",
       "0  RT @NancyLeeGrahn: How did everyone feel about...   \n",
       "1  RT @ScottWalker: Didn't catch the full #GOPdeb...   \n",
       "2  RT @TJMShow: No mention of Tamir Rice and the ...   \n",
       "3  RT @RobGeorge: That Carly Fiorina is trending ...   \n",
       "4  RT @DanScavino: #GOPDebate w/ @realDonaldTrump...   \n",
       "\n",
       "                                               Lemma  Polarity  Analysis  \n",
       "0    RT NancyLeeGrahn everyone feel Climate Chang...    0.1250  Positive  \n",
       "1    RT ScottWalker catch full GOPdebate last nig...    0.3375  Positive  \n",
       "2    RT TJMShow mention Tamir Rice GOPDebate hold...    0.1000  Positive  \n",
       "3    RT RobGeorge Carly Fiorina trend hour debate...    0.1000  Positive  \n",
       "4    RT DanScavino GOPDebate w realDonaldTrump de...    0.1600  Positive  "
      ]
     },
     "execution_count": 15,
     "metadata": {},
     "output_type": "execute_result"
    }
   ],
   "source": [
    "# fin_data['Subjectivity'] = fin_data['Lemma'].apply(getSubjectivity) \n",
    "fin_data['Polarity'] = fin_data['Lemma'].apply(getPolarity) \n",
    "fin_data['Analysis'] = fin_data['Polarity'].apply(analysis)\n",
    "fin_data.head()"
   ]
  },
  {
   "cell_type": "code",
   "execution_count": 16,
   "id": "51d500e6",
   "metadata": {
    "ExecuteTime": {
     "end_time": "2022-05-26T22:35:16.746058Z",
     "start_time": "2022-05-26T22:35:16.726073Z"
    }
   },
   "outputs": [
    {
     "data": {
      "text/plain": [
       "Neutral     6591\n",
       "Positive    4885\n",
       "Negative    2395\n",
       "Name: Analysis, dtype: int64"
      ]
     },
     "execution_count": 16,
     "metadata": {},
     "output_type": "execute_result"
    }
   ],
   "source": [
    "tb_counts = fin_data.Analysis.value_counts()\n",
    "tb_counts"
   ]
  },
  {
   "cell_type": "code",
   "execution_count": 17,
   "id": "a2b7c52f",
   "metadata": {
    "ExecuteTime": {
     "end_time": "2022-05-26T22:35:18.061816Z",
     "start_time": "2022-05-26T22:35:17.871933Z"
    }
   },
   "outputs": [
    {
     "data": {
      "text/plain": [
       "([<matplotlib.patches.Wedge at 0x24a243c1460>,\n",
       "  <matplotlib.patches.Wedge at 0x24a243c1a60>,\n",
       "  <matplotlib.patches.Wedge at 0x24a243fb1c0>],\n",
       " [Text(0.08573990798461832, 1.0966533947327155, 'Neutral'),\n",
       "  Text(-0.6395498673104528, -0.894972606968047, 'Positive'),\n",
       "  Text(1.1562133280282039, -0.696900810797308, 'Negative')],\n",
       " [Text(0.046767222537064536, 0.5981745789451175, '47.5%'),\n",
       "  Text(-0.34884538216933786, -0.4881668765280256, '35.2%'),\n",
       "  Text(0.7279861694992393, -0.4387893993908976, '17.3%')])"
      ]
     },
     "execution_count": 17,
     "metadata": {},
     "output_type": "execute_result"
    },
    {
     "data": {
      "image/png": "[encoded data removed]",
      "text/plain": [
       "<Figure size 720x504 with 1 Axes>"
      ]
     },
     "metadata": {},
     "output_type": "display_data"
    }
   ],
   "source": [
    "import matplotlib.pyplot as plt\n",
    "%matplotlib inline\n",
    "\n",
    "tb_count= fin_data.Analysis.value_counts()\n",
    "plt.figure(figsize=(10, 7))\n",
    "plt.pie(tb_counts.values, labels = tb_counts.index, explode = (0, 0, 0.25), autopct='%1.1f%%', shadow=False)"
   ]
  },
  {
   "cell_type": "code",
   "execution_count": 18,
   "id": "eecaccae",
   "metadata": {
    "ExecuteTime": {
     "end_time": "2022-05-26T22:35:20.873176Z",
     "start_time": "2022-05-26T22:35:18.871477Z"
    }
   },
   "outputs": [],
   "source": [
    "from vaderSentiment.vaderSentiment import SentimentIntensityAnalyzer\n",
    "analyzer = SentimentIntensityAnalyzer()\n",
    "\n",
    "# function to calculate vader sentiment  \n",
    "def vadersentimentanalysis(review):\n",
    "    vs = analyzer.polarity_scores(review)\n",
    "    return vs['compound']\n",
    "\n",
    "fin_data['Vader Sentiment'] = fin_data['Lemma'].apply(vadersentimentanalysis)"
   ]
  },
  {
   "cell_type": "code",
   "execution_count": 19,
   "id": "ee4c2471",
   "metadata": {
    "ExecuteTime": {
     "end_time": "2022-05-26T22:35:20.904164Z",
     "start_time": "2022-05-26T22:35:20.876181Z"
    }
   },
   "outputs": [
    {
     "data": {
      "text/html": [
       "<div>\n",
       "<style scoped>\n",
       "    .dataframe tbody tr th:only-of-type {\n",
       "        vertical-align: middle;\n",
       "    }\n",
       "\n",
       "    .dataframe tbody tr th {\n",
       "        vertical-align: top;\n",
       "    }\n",
       "\n",
       "    .dataframe thead th {\n",
       "        text-align: right;\n",
       "    }\n",
       "</style>\n",
       "<table border=\"1\" class=\"dataframe\">\n",
       "  <thead>\n",
       "    <tr style=\"text-align: right;\">\n",
       "      <th></th>\n",
       "      <th>text</th>\n",
       "      <th>Lemma</th>\n",
       "      <th>Polarity</th>\n",
       "      <th>Analysis</th>\n",
       "      <th>Vader Sentiment</th>\n",
       "      <th>Vader Analysis</th>\n",
       "    </tr>\n",
       "  </thead>\n",
       "  <tbody>\n",
       "    <tr>\n",
       "      <th>0</th>\n",
       "      <td>RT @NancyLeeGrahn: How did everyone feel about...</td>\n",
       "      <td>RT NancyLeeGrahn everyone feel Climate Chang...</td>\n",
       "      <td>0.1250</td>\n",
       "      <td>Positive</td>\n",
       "      <td>0.0000</td>\n",
       "      <td>Neutral</td>\n",
       "    </tr>\n",
       "    <tr>\n",
       "      <th>1</th>\n",
       "      <td>RT @ScottWalker: Didn't catch the full #GOPdeb...</td>\n",
       "      <td>RT ScottWalker catch full GOPdebate last nig...</td>\n",
       "      <td>0.3375</td>\n",
       "      <td>Positive</td>\n",
       "      <td>0.6369</td>\n",
       "      <td>Positive</td>\n",
       "    </tr>\n",
       "    <tr>\n",
       "      <th>2</th>\n",
       "      <td>RT @TJMShow: No mention of Tamir Rice and the ...</td>\n",
       "      <td>RT TJMShow mention Tamir Rice GOPDebate hold...</td>\n",
       "      <td>0.1000</td>\n",
       "      <td>Positive</td>\n",
       "      <td>0.5859</td>\n",
       "      <td>Positive</td>\n",
       "    </tr>\n",
       "    <tr>\n",
       "      <th>3</th>\n",
       "      <td>RT @RobGeorge: That Carly Fiorina is trending ...</td>\n",
       "      <td>RT RobGeorge Carly Fiorina trend hour debate...</td>\n",
       "      <td>0.1000</td>\n",
       "      <td>Positive</td>\n",
       "      <td>0.0000</td>\n",
       "      <td>Neutral</td>\n",
       "    </tr>\n",
       "    <tr>\n",
       "      <th>4</th>\n",
       "      <td>RT @DanScavino: #GOPDebate w/ @realDonaldTrump...</td>\n",
       "      <td>RT DanScavino GOPDebate w realDonaldTrump de...</td>\n",
       "      <td>0.1600</td>\n",
       "      <td>Positive</td>\n",
       "      <td>0.0000</td>\n",
       "      <td>Neutral</td>\n",
       "    </tr>\n",
       "  </tbody>\n",
       "</table>\n",
       "</div>"
      ],
      "text/plain": [
       "                                                text  \\\n",
       "0  RT @NancyLeeGrahn: How did everyone feel about...   \n",
       "1  RT @ScottWalker: Didn't catch the full #GOPdeb...   \n",
       "2  RT @TJMShow: No mention of Tamir Rice and the ...   \n",
       "3  RT @RobGeorge: That Carly Fiorina is trending ...   \n",
       "4  RT @DanScavino: #GOPDebate w/ @realDonaldTrump...   \n",
       "\n",
       "                                               Lemma  Polarity  Analysis  \\\n",
       "0    RT NancyLeeGrahn everyone feel Climate Chang...    0.1250  Positive   \n",
       "1    RT ScottWalker catch full GOPdebate last nig...    0.3375  Positive   \n",
       "2    RT TJMShow mention Tamir Rice GOPDebate hold...    0.1000  Positive   \n",
       "3    RT RobGeorge Carly Fiorina trend hour debate...    0.1000  Positive   \n",
       "4    RT DanScavino GOPDebate w realDonaldTrump de...    0.1600  Positive   \n",
       "\n",
       "   Vader Sentiment Vader Analysis  \n",
       "0           0.0000        Neutral  \n",
       "1           0.6369       Positive  \n",
       "2           0.5859       Positive  \n",
       "3           0.0000        Neutral  \n",
       "4           0.0000        Neutral  "
      ]
     },
     "execution_count": 19,
     "metadata": {},
     "output_type": "execute_result"
    }
   ],
   "source": [
    "# function to analyse \n",
    "def vader_analysis(compound):\n",
    "    if compound >= 0.5:\n",
    "        return 'Positive'\n",
    "    elif compound <= -0.5 :\n",
    "        return 'Negative'\n",
    "    else:\n",
    "        return 'Neutral'\n",
    "    \n",
    "fin_data['Vader Analysis'] = fin_data['Vader Sentiment'].apply(vader_analysis)\n",
    "fin_data.head()"
   ]
  },
  {
   "cell_type": "code",
   "execution_count": 20,
   "id": "5b1666d9",
   "metadata": {
    "ExecuteTime": {
     "end_time": "2022-05-26T22:35:21.927767Z",
     "start_time": "2022-05-26T22:35:21.903784Z"
    }
   },
   "outputs": [
    {
     "data": {
      "text/plain": [
       "Neutral     9752\n",
       "Positive    2443\n",
       "Negative    1676\n",
       "Name: Vader Analysis, dtype: int64"
      ]
     },
     "execution_count": 20,
     "metadata": {},
     "output_type": "execute_result"
    }
   ],
   "source": [
    "vader_counts = fin_data['Vader Analysis'].value_counts()\n",
    "vader_counts"
   ]
  },
  {
   "cell_type": "code",
   "execution_count": 21,
   "id": "83f94f42",
   "metadata": {
    "ExecuteTime": {
     "end_time": "2022-05-26T22:35:23.498698Z",
     "start_time": "2022-05-26T22:35:23.358779Z"
    }
   },
   "outputs": [
    {
     "data": {
      "text/plain": [
       "([<matplotlib.patches.Wedge at 0x24a26856100>,\n",
       "  <matplotlib.patches.Wedge at 0x24a26856820>,\n",
       "  <matplotlib.patches.Wedge at 0x24a26856f40>],\n",
       " [Text(-0.7146106524112953, 0.9640184725721304, 'Neutral'),\n",
       "  Text(0.2809893415436816, -1.0635059896111767, 'Positive'),\n",
       "  Text(1.021697839838303, -0.4075948037815812, 'Negative')],\n",
       " [Text(-0.4168562139065889, 0.5623441090004093, '70.3%'),\n",
       "  Text(0.15326691356928088, -0.5800941761515509, '17.6%'),\n",
       "  Text(0.5572897308208924, -0.222324438426317, '12.1%')])"
      ]
     },
     "execution_count": 21,
     "metadata": {},
     "output_type": "execute_result"
    },
    {
     "data": {
      "image/png": "[encoded data removed]",
      "text/plain": [
       "<Figure size 720x504 with 1 Axes>"
      ]
     },
     "metadata": {},
     "output_type": "display_data"
    }
   ],
   "source": [
    "vader_counts= fin_data['Vader Analysis'].value_counts()\n",
    "plt.figure(figsize=(10, 7))\n",
    "plt.pie(vader_counts.values, labels = vader_counts.index, explode = (0.1, 0, 0), autopct='%1.1f%%', shadow=False)"
   ]
  },
  {
   "cell_type": "code",
   "execution_count": 22,
   "id": "57e69b9f",
   "metadata": {
    "ExecuteTime": {
     "end_time": "2022-05-26T22:35:33.178910Z",
     "start_time": "2022-05-26T22:35:24.799067Z"
    }
   },
   "outputs": [
    {
     "name": "stderr",
     "output_type": "stream",
     "text": [
      "[nltk_data] Downloading package sentiwordnet to\n",
      "[nltk_data]     C:\\Users\\Maestro\\AppData\\Roaming\\nltk_data...\n",
      "[nltk_data]   Package sentiwordnet is already up-to-date!\n"
     ]
    },
    {
     "data": {
      "text/html": [
       "<div>\n",
       "<style scoped>\n",
       "    .dataframe tbody tr th:only-of-type {\n",
       "        vertical-align: middle;\n",
       "    }\n",
       "\n",
       "    .dataframe tbody tr th {\n",
       "        vertical-align: top;\n",
       "    }\n",
       "\n",
       "    .dataframe thead th {\n",
       "        text-align: right;\n",
       "    }\n",
       "</style>\n",
       "<table border=\"1\" class=\"dataframe\">\n",
       "  <thead>\n",
       "    <tr style=\"text-align: right;\">\n",
       "      <th></th>\n",
       "      <th>text</th>\n",
       "      <th>Lemma</th>\n",
       "      <th>Polarity</th>\n",
       "      <th>Analysis</th>\n",
       "      <th>Vader Sentiment</th>\n",
       "      <th>Vader Analysis</th>\n",
       "      <th>SWN analysis</th>\n",
       "    </tr>\n",
       "  </thead>\n",
       "  <tbody>\n",
       "    <tr>\n",
       "      <th>0</th>\n",
       "      <td>RT @NancyLeeGrahn: How did everyone feel about...</td>\n",
       "      <td>RT NancyLeeGrahn everyone feel Climate Chang...</td>\n",
       "      <td>0.1250</td>\n",
       "      <td>Positive</td>\n",
       "      <td>0.0000</td>\n",
       "      <td>Neutral</td>\n",
       "      <td>Negative</td>\n",
       "    </tr>\n",
       "    <tr>\n",
       "      <th>1</th>\n",
       "      <td>RT @ScottWalker: Didn't catch the full #GOPdeb...</td>\n",
       "      <td>RT ScottWalker catch full GOPdebate last nig...</td>\n",
       "      <td>0.3375</td>\n",
       "      <td>Positive</td>\n",
       "      <td>0.6369</td>\n",
       "      <td>Positive</td>\n",
       "      <td>Positive</td>\n",
       "    </tr>\n",
       "    <tr>\n",
       "      <th>2</th>\n",
       "      <td>RT @TJMShow: No mention of Tamir Rice and the ...</td>\n",
       "      <td>RT TJMShow mention Tamir Rice GOPDebate hold...</td>\n",
       "      <td>0.1000</td>\n",
       "      <td>Positive</td>\n",
       "      <td>0.5859</td>\n",
       "      <td>Positive</td>\n",
       "      <td>Negative</td>\n",
       "    </tr>\n",
       "    <tr>\n",
       "      <th>3</th>\n",
       "      <td>RT @RobGeorge: That Carly Fiorina is trending ...</td>\n",
       "      <td>RT RobGeorge Carly Fiorina trend hour debate...</td>\n",
       "      <td>0.1000</td>\n",
       "      <td>Positive</td>\n",
       "      <td>0.0000</td>\n",
       "      <td>Neutral</td>\n",
       "      <td>Neutral</td>\n",
       "    </tr>\n",
       "    <tr>\n",
       "      <th>4</th>\n",
       "      <td>RT @DanScavino: #GOPDebate w/ @realDonaldTrump...</td>\n",
       "      <td>RT DanScavino GOPDebate w realDonaldTrump de...</td>\n",
       "      <td>0.1600</td>\n",
       "      <td>Positive</td>\n",
       "      <td>0.0000</td>\n",
       "      <td>Neutral</td>\n",
       "      <td>Negative</td>\n",
       "    </tr>\n",
       "  </tbody>\n",
       "</table>\n",
       "</div>"
      ],
      "text/plain": [
       "                                                text  \\\n",
       "0  RT @NancyLeeGrahn: How did everyone feel about...   \n",
       "1  RT @ScottWalker: Didn't catch the full #GOPdeb...   \n",
       "2  RT @TJMShow: No mention of Tamir Rice and the ...   \n",
       "3  RT @RobGeorge: That Carly Fiorina is trending ...   \n",
       "4  RT @DanScavino: #GOPDebate w/ @realDonaldTrump...   \n",
       "\n",
       "                                               Lemma  Polarity  Analysis  \\\n",
       "0    RT NancyLeeGrahn everyone feel Climate Chang...    0.1250  Positive   \n",
       "1    RT ScottWalker catch full GOPdebate last nig...    0.3375  Positive   \n",
       "2    RT TJMShow mention Tamir Rice GOPDebate hold...    0.1000  Positive   \n",
       "3    RT RobGeorge Carly Fiorina trend hour debate...    0.1000  Positive   \n",
       "4    RT DanScavino GOPDebate w realDonaldTrump de...    0.1600  Positive   \n",
       "\n",
       "   Vader Sentiment Vader Analysis SWN analysis  \n",
       "0           0.0000        Neutral     Negative  \n",
       "1           0.6369       Positive     Positive  \n",
       "2           0.5859       Positive     Negative  \n",
       "3           0.0000        Neutral      Neutral  \n",
       "4           0.0000        Neutral     Negative  "
      ]
     },
     "execution_count": 22,
     "metadata": {},
     "output_type": "execute_result"
    }
   ],
   "source": [
    "nltk.download('sentiwordnet')\n",
    "from nltk.corpus import sentiwordnet as swn\n",
    "\n",
    "def sentiwordnetanalysis(pos_data):\n",
    "    sentiment = 0\n",
    "    tokens_count = 0\n",
    "    for word, pos in pos_data:\n",
    "        if not pos:\n",
    "            continue\n",
    "        lemma = wordnet_lemmatizer.lemmatize(word, pos=pos)\n",
    "        if not lemma:\n",
    "            continue\n",
    "        \n",
    "        synsets = wordnet.synsets(lemma, pos=pos)\n",
    "        if not synsets:\n",
    "            continue\n",
    "\n",
    "        # Take the first sense, the most common\n",
    "        synset = synsets[0]\n",
    "        swn_synset = swn.senti_synset(synset.name())\n",
    "        sentiment += swn_synset.pos_score() - swn_synset.neg_score()\n",
    "        tokens_count += 1\n",
    "        # print(swn_synset.pos_score(),swn_synset.neg_score(),swn_synset.obj_score())\n",
    "    if not tokens_count:\n",
    "        return 0\n",
    "    if sentiment>0:\n",
    "        return \"Positive\"\n",
    "    if sentiment==0:\n",
    "        return \"Neutral\"\n",
    "    else:\n",
    "        return \"Negative\"\n",
    "\n",
    "fin_data['SWN analysis'] = dataset['POS'].apply(sentiwordnetanalysis)\n",
    "fin_data.head()"
   ]
  },
  {
   "cell_type": "code",
   "execution_count": 23,
   "id": "c1b7b849",
   "metadata": {
    "ExecuteTime": {
     "end_time": "2022-05-26T22:35:33.193900Z",
     "start_time": "2022-05-26T22:35:33.181906Z"
    }
   },
   "outputs": [
    {
     "data": {
      "text/plain": [
       "Positive    5989\n",
       "Negative    4219\n",
       "Neutral     3638\n",
       "0             25\n",
       "Name: SWN analysis, dtype: int64"
      ]
     },
     "execution_count": 23,
     "metadata": {},
     "output_type": "execute_result"
    }
   ],
   "source": [
    "swn_counts= fin_data['SWN analysis'].value_counts()\n",
    "swn_counts"
   ]
  },
  {
   "cell_type": "code",
   "execution_count": 24,
   "id": "ec2e1b7a",
   "metadata": {
    "ExecuteTime": {
     "end_time": "2022-05-26T22:35:33.844969Z",
     "start_time": "2022-05-26T22:35:33.837973Z"
    }
   },
   "outputs": [],
   "source": [
    "import matplotlib.pyplot as plt"
   ]
  },
  {
   "cell_type": "code",
   "execution_count": 25,
   "id": "ee4f63f9",
   "metadata": {
    "ExecuteTime": {
     "end_time": "2022-05-26T22:35:35.377963Z",
     "start_time": "2022-05-26T22:35:35.208063Z"
    }
   },
   "outputs": [
    {
     "data": {
      "text/plain": [
       "([<matplotlib.patches.Wedge at 0x24a2d1e70d0>,\n",
       "  <matplotlib.patches.Wedge at 0x24a2d1e77f0>,\n",
       "  <matplotlib.patches.Wedge at 0x24a2d1e7df0>,\n",
       "  <matplotlib.patches.Wedge at 0x24a2d1f0550>],\n",
       " [Text(0.23400435018219426, 1.0748218290004206, 'Positive'),\n",
       "  Text(-0.9508582850710655, -0.5530538144807542, 'Negative'),\n",
       "  Text(0.7380657512183892, -0.8156340765799543, 'Neutral'),\n",
       "  Text(1.0999823680342276, -0.006228162956532336, '0')],\n",
       " [Text(0.12763873646301505, 0.5862664521820474, '43.2%'),\n",
       "  Text(-0.5186499736751266, -0.3016657169895023, '30.4%'),\n",
       "  Text(0.4025813188463941, -0.4448913144981569, '26.2%'),\n",
       "  Text(0.5999903825641241, -0.0033971797944721827, '0.2%')])"
      ]
     },
     "execution_count": 25,
     "metadata": {},
     "output_type": "execute_result"
    },
    {
     "data": {
      "image/png": "[encoded data removed]",
      "text/plain": [
       "<Figure size 720x504 with 1 Axes>"
      ]
     },
     "metadata": {},
     "output_type": "display_data"
    }
   ],
   "source": [
    "swn_counts= fin_data['SWN analysis'].value_counts()\n",
    "plt.figure(figsize=(10, 7))\n",
    "plt.pie(swn_counts.values, labels = swn_counts.index, autopct='%1.1f%%', shadow=False)"
   ]
  },
  {
   "cell_type": "code",
   "execution_count": 26,
   "id": "30f2379c",
   "metadata": {
    "ExecuteTime": {
     "end_time": "2022-05-26T22:35:37.224062Z",
     "start_time": "2022-05-26T22:35:36.865280Z"
    }
   },
   "outputs": [
    {
     "data": {
      "text/plain": [
       "([<matplotlib.patches.Wedge at 0x24a2d2de280>,\n",
       "  <matplotlib.patches.Wedge at 0x24a2d2dea00>,\n",
       "  <matplotlib.patches.Wedge at 0x24a2d2ec160>,\n",
       "  <matplotlib.patches.Wedge at 0x24a2d2ec880>],\n",
       " [Text(0.23400435018219426, 1.0748218290004206, 'Positive'),\n",
       "  Text(-0.9508582850710655, -0.5530538144807542, 'Negative'),\n",
       "  Text(0.7380657512183892, -0.8156340765799543, 'Neutral'),\n",
       "  Text(1.0999823680342276, -0.006228162956532336, '0')],\n",
       " [Text(0.12763873646301505, 0.5862664521820474, '43.2%'),\n",
       "  Text(-0.5186499736751266, -0.3016657169895023, '30.4%'),\n",
       "  Text(0.4025813188463941, -0.4448913144981569, '26.2%'),\n",
       "  Text(0.5999903825641241, -0.0033971797944721827, '0.2%')])"
      ]
     },
     "execution_count": 26,
     "metadata": {},
     "output_type": "execute_result"
    },
    {
     "data": {
      "image/png": "[encoded data removed]",
      "text/plain": [
       "<Figure size 1080x504 with 3 Axes>"
      ]
     },
     "metadata": {},
     "output_type": "display_data"
    }
   ],
   "source": [
    "import matplotlib.pyplot as plt\n",
    "%matplotlib inline\n",
    "\n",
    "plt.figure(figsize=(15,7))\n",
    "plt.subplot(1,3,1)\n",
    "plt.title(\"TextBlob\")\n",
    "plt.pie(tb_counts.values, labels = tb_counts.index, explode = (0, 0, 0.25), autopct='%1.1f%%', shadow=False)\n",
    "plt.subplot(1,3,2)\n",
    "plt.title(\"VADER\")\n",
    "plt.pie(vader_counts.values, labels = vader_counts.index, explode = (0, 0, 0.25), autopct='%1.1f%%', shadow=False)\n",
    "plt.subplot(1,3,3)\n",
    "plt.title(\"SentiWordNet\")\n",
    "plt.pie(swn_counts.values, labels = swn_counts.index, autopct='%1.1f%%', shadow=False)"
   ]
  },
  {
   "cell_type": "code",
   "execution_count": 27,
   "id": "edee3ccb",
   "metadata": {
    "ExecuteTime": {
     "end_time": "2022-05-26T22:35:38.182375Z",
     "start_time": "2022-05-26T22:35:38.160389Z"
    }
   },
   "outputs": [],
   "source": [
    "import numpy as np \n",
    "import pandas as pd \n",
    "import re\n",
    "import nltk \n",
    "import matplotlib.pyplot as plt\n",
    "%matplotlib inline"
   ]
  },
  {
   "cell_type": "code",
   "execution_count": 28,
   "id": "596c5dfe",
   "metadata": {
    "ExecuteTime": {
     "end_time": "2022-05-26T22:35:39.578460Z",
     "start_time": "2022-05-26T22:35:39.440394Z"
    }
   },
   "outputs": [],
   "source": [
    "po_tweets = pd.read_csv('E:/MCD/Documentos/Sentiment.csv')"
   ]
  },
  {
   "cell_type": "code",
   "execution_count": 29,
   "id": "5f0cbeae",
   "metadata": {
    "ExecuteTime": {
     "end_time": "2022-05-26T22:35:40.538613Z",
     "start_time": "2022-05-26T22:35:40.528623Z"
    }
   },
   "outputs": [
    {
     "name": "stdout",
     "output_type": "stream",
     "text": [
      "6.0\n",
      "4.0\n"
     ]
    }
   ],
   "source": [
    "plot_size = plt.rcParams[\"figure.figsize\"] \n",
    "print(plot_size[0]) \n",
    "print(plot_size[1])\n",
    "\n",
    "plot_size[0] = 8\n",
    "plot_size[1] = 6\n",
    "plt.rcParams[\"figure.figsize\"] = plot_size"
   ]
  },
  {
   "cell_type": "code",
   "execution_count": 30,
   "id": "e290408c",
   "metadata": {
    "ExecuteTime": {
     "end_time": "2022-05-26T22:35:42.241612Z",
     "start_time": "2022-05-26T22:35:41.976776Z"
    }
   },
   "outputs": [
    {
     "data": {
      "text/plain": [
       "<AxesSubplot:ylabel='candidate'>"
      ]
     },
     "execution_count": 30,
     "metadata": {},
     "output_type": "execute_result"
    },
    {
     "data": {
      "image/png": "[encoded data removed]",
      "text/plain": [
       "<Figure size 576x432 with 1 Axes>"
      ]
     },
     "metadata": {},
     "output_type": "display_data"
    }
   ],
   "source": [
    "po_tweets.candidate.value_counts().plot(kind='pie', autopct='%1.0f%%')"
   ]
  },
  {
   "cell_type": "code",
   "execution_count": 31,
   "id": "77e081c2",
   "metadata": {
    "ExecuteTime": {
     "end_time": "2022-05-26T22:35:43.480178Z",
     "start_time": "2022-05-26T22:35:43.336902Z"
    }
   },
   "outputs": [
    {
     "data": {
      "text/plain": [
       "<AxesSubplot:ylabel='sentiment'>"
      ]
     },
     "execution_count": 31,
     "metadata": {},
     "output_type": "execute_result"
    },
    {
     "data": {
      "image/png": "[encoded data removed]",
      "text/plain": [
       "<Figure size 576x432 with 1 Axes>"
      ]
     },
     "metadata": {},
     "output_type": "display_data"
    }
   ],
   "source": [
    "po_tweets.sentiment.value_counts().plot(kind='pie', autopct='%1.0f%%', colors=[\"red\", \"yellow\", \"green\"])"
   ]
  },
  {
   "cell_type": "code",
   "execution_count": 32,
   "id": "ab41483b",
   "metadata": {
    "ExecuteTime": {
     "end_time": "2022-05-26T22:35:44.923584Z",
     "start_time": "2022-05-26T22:35:44.561046Z"
    }
   },
   "outputs": [
    {
     "data": {
      "text/plain": [
       "<AxesSubplot:xlabel='candidate'>"
      ]
     },
     "execution_count": 32,
     "metadata": {},
     "output_type": "execute_result"
    },
    {
     "data": {
      "image/png": "[encoded data removed]",
      "text/plain": [
       "<Figure size 576x432 with 1 Axes>"
      ]
     },
     "metadata": {
      "needs_background": "light"
     },
     "output_type": "display_data"
    }
   ],
   "source": [
    "po_sentiment = po_tweets.groupby(['candidate', 'sentiment']).sentiment.count().unstack()\n",
    "po_sentiment.plot(kind='bar')"
   ]
  },
  {
   "cell_type": "code",
   "execution_count": 33,
   "id": "38d8aab0",
   "metadata": {
    "ExecuteTime": {
     "end_time": "2022-05-26T22:35:47.469535Z",
     "start_time": "2022-05-26T22:35:46.825247Z"
    }
   },
   "outputs": [
    {
     "data": {
      "text/plain": [
       "<AxesSubplot:xlabel='sentiment', ylabel='sentiment_confidence'>"
      ]
     },
     "execution_count": 33,
     "metadata": {},
     "output_type": "execute_result"
    },
    {
     "data": {
      "image/png": "[encoded data removed]",
      "text/plain": [
       "<Figure size 576x432 with 1 Axes>"
      ]
     },
     "metadata": {
      "needs_background": "light"
     },
     "output_type": "display_data"
    }
   ],
   "source": [
    "import seaborn as sns\n",
    "\n",
    "sns.barplot(x='sentiment', y='sentiment_confidence' , data=po_tweets)"
   ]
  },
  {
   "cell_type": "code",
   "execution_count": 34,
   "id": "7513af69",
   "metadata": {
    "ExecuteTime": {
     "end_time": "2022-05-26T22:35:48.277378Z",
     "start_time": "2022-05-26T22:35:48.264388Z"
    }
   },
   "outputs": [],
   "source": [
    "features = po_tweets.iloc[:, 15].values\n",
    "labels = po_tweets.iloc[:, 5].values"
   ]
  },
  {
   "cell_type": "code",
   "execution_count": 35,
   "id": "77e2d12f",
   "metadata": {
    "ExecuteTime": {
     "end_time": "2022-05-26T22:35:50.077114Z",
     "start_time": "2022-05-26T22:35:49.537513Z"
    }
   },
   "outputs": [],
   "source": [
    "processed_features = []\n",
    "\n",
    "for sentence in range(0, len(features)):\n",
    "    # Remove all the special characters\n",
    "    processed_feature = re.sub(r'\\W', ' ', str(features[sentence]))\n",
    "    # remove all single characters\n",
    "    processed_feature= re.sub(r'\\s+[a-zA-Z]\\s+', ' ', processed_feature)\n",
    "    # Remove single characters from the start\n",
    "    processed_feature = re.sub(r'\\^[a-zA-Z]\\s+', ' ', processed_feature) \n",
    "    # Substituting multiple spaces with single space\n",
    "    processed_feature = re.sub(r'\\s+', ' ', processed_feature, flags=re.I)\n",
    "    # Removing prefixed 'b'\n",
    "    processed_feature = re.sub(r'^b\\s+', '', processed_feature)\n",
    "    # Converting to Lowercase\n",
    "    processed_feature = processed_feature.lower()\n",
    "\n",
    "    processed_features.append(processed_feature)"
   ]
  },
  {
   "cell_type": "code",
   "execution_count": 36,
   "id": "7a6736f7",
   "metadata": {
    "ExecuteTime": {
     "end_time": "2022-05-26T22:35:51.318735Z",
     "start_time": "2022-05-26T22:35:50.841638Z"
    }
   },
   "outputs": [],
   "source": [
    "from nltk.corpus import stopwords\n",
    "from sklearn.feature_extraction.text import TfidfVectorizer\n",
    "\n",
    "vectorizer = TfidfVectorizer (max_features=2500, min_df=7, max_df=0.8, stop_words=stopwords.words('english'))\n",
    "processed_features = vectorizer.fit_transform(processed_features).toarray()"
   ]
  },
  {
   "cell_type": "code",
   "execution_count": 37,
   "id": "000e8e46",
   "metadata": {
    "ExecuteTime": {
     "end_time": "2022-05-26T22:35:52.278766Z",
     "start_time": "2022-05-26T22:35:52.144695Z"
    }
   },
   "outputs": [],
   "source": [
    "from sklearn.model_selection import train_test_split\n",
    "\n",
    "X_train, X_test, y_train, y_test = train_test_split(processed_features, labels, test_size=0.2, random_state=0)"
   ]
  },
  {
   "cell_type": "code",
   "execution_count": 38,
   "id": "fac8dacc",
   "metadata": {
    "ExecuteTime": {
     "end_time": "2022-05-26T22:38:11.563647Z",
     "start_time": "2022-05-26T22:35:53.024856Z"
    }
   },
   "outputs": [
    {
     "data": {
      "text/plain": [
       "RandomForestClassifier(n_estimators=200, random_state=0)"
      ]
     },
     "execution_count": 38,
     "metadata": {},
     "output_type": "execute_result"
    }
   ],
   "source": [
    "from sklearn.ensemble import RandomForestClassifier\n",
    "\n",
    "text_classifier = RandomForestClassifier(n_estimators=200, random_state=0)\n",
    "text_classifier.fit(X_train, y_train)"
   ]
  },
  {
   "cell_type": "code",
   "execution_count": 39,
   "id": "fd367e3e",
   "metadata": {
    "ExecuteTime": {
     "end_time": "2022-05-26T22:38:28.777562Z",
     "start_time": "2022-05-26T22:38:27.978157Z"
    }
   },
   "outputs": [],
   "source": [
    "predictions = text_classifier.predict(X_test)"
   ]
  },
  {
   "cell_type": "code",
   "execution_count": 40,
   "id": "329e324e",
   "metadata": {
    "ExecuteTime": {
     "end_time": "2022-05-26T22:38:30.250188Z",
     "start_time": "2022-05-26T22:38:30.137368Z"
    }
   },
   "outputs": [
    {
     "name": "stdout",
     "output_type": "stream",
     "text": [
      "[[1521  110   39]\n",
      " [ 428  182   32]\n",
      " [ 219   43  201]]\n",
      "              precision    recall  f1-score   support\n",
      "\n",
      "    Negative       0.70      0.91      0.79      1670\n",
      "     Neutral       0.54      0.28      0.37       642\n",
      "    Positive       0.74      0.43      0.55       463\n",
      "\n",
      "    accuracy                           0.69      2775\n",
      "   macro avg       0.66      0.54      0.57      2775\n",
      "weighted avg       0.67      0.69      0.65      2775\n",
      "\n",
      "0.6861261261261261\n"
     ]
    }
   ],
   "source": [
    "from sklearn.metrics import classification_report, confusion_matrix, accuracy_score\n",
    "\n",
    "print(confusion_matrix(y_test,predictions))\n",
    "print(classification_report(y_test,predictions))\n",
    "print(accuracy_score(y_test, predictions))"
   ]
  },
  {
   "cell_type": "markdown",
   "id": "cb67fcd5",
   "metadata": {},
   "source": [
    "## Sólo con los políticos"
   ]
  },
  {
   "cell_type": "code",
   "execution_count": 41,
   "id": "7e06e8c4",
   "metadata": {
    "ExecuteTime": {
     "end_time": "2022-05-26T22:38:36.982963Z",
     "start_time": "2022-05-26T22:38:36.866038Z"
    }
   },
   "outputs": [
    {
     "data": {
      "text/html": [
       "<div>\n",
       "<style scoped>\n",
       "    .dataframe tbody tr th:only-of-type {\n",
       "        vertical-align: middle;\n",
       "    }\n",
       "\n",
       "    .dataframe tbody tr th {\n",
       "        vertical-align: top;\n",
       "    }\n",
       "\n",
       "    .dataframe thead th {\n",
       "        text-align: right;\n",
       "    }\n",
       "</style>\n",
       "<table border=\"1\" class=\"dataframe\">\n",
       "  <thead>\n",
       "    <tr style=\"text-align: right;\">\n",
       "      <th></th>\n",
       "      <th>candidate</th>\n",
       "      <th>sentiment</th>\n",
       "      <th>sentiment_confidence</th>\n",
       "      <th>name</th>\n",
       "      <th>retweet_count</th>\n",
       "      <th>text</th>\n",
       "      <th>tweet_created</th>\n",
       "      <th>user_timezone</th>\n",
       "      <th>Limpio</th>\n",
       "    </tr>\n",
       "  </thead>\n",
       "  <tbody>\n",
       "    <tr>\n",
       "      <th>1</th>\n",
       "      <td>Scott Walker</td>\n",
       "      <td>Positive</td>\n",
       "      <td>0.6333</td>\n",
       "      <td>PeacefulQuest</td>\n",
       "      <td>26</td>\n",
       "      <td>RT @ScottWalker: Didn't catch the full #GOPdeb...</td>\n",
       "      <td>2015-08-07 09:54:46 -0700</td>\n",
       "      <td>NaN</td>\n",
       "      <td>RT ScottWalker Didn t catch the full GOPdebate...</td>\n",
       "    </tr>\n",
       "    <tr>\n",
       "      <th>4</th>\n",
       "      <td>Donald Trump</td>\n",
       "      <td>Positive</td>\n",
       "      <td>0.7045</td>\n",
       "      <td>sharonDay5</td>\n",
       "      <td>156</td>\n",
       "      <td>RT @DanScavino: #GOPDebate w/ @realDonaldTrump...</td>\n",
       "      <td>2015-08-07 09:54:45 -0700</td>\n",
       "      <td>Arizona</td>\n",
       "      <td>RT DanScavino GOPDebate w realDonaldTrump deli...</td>\n",
       "    </tr>\n",
       "    <tr>\n",
       "      <th>5</th>\n",
       "      <td>Ted Cruz</td>\n",
       "      <td>Positive</td>\n",
       "      <td>0.6332</td>\n",
       "      <td>DRJohnson11</td>\n",
       "      <td>228</td>\n",
       "      <td>RT @GregAbbott_TX: @TedCruz: \"On my first day ...</td>\n",
       "      <td>2015-08-07 09:54:44 -0700</td>\n",
       "      <td>Central Time (US &amp; Canada)</td>\n",
       "      <td>RT GregAbbott TX TedCruz On my first day I wil...</td>\n",
       "    </tr>\n",
       "    <tr>\n",
       "      <th>8</th>\n",
       "      <td>Ben Carson</td>\n",
       "      <td>Negative</td>\n",
       "      <td>0.6889</td>\n",
       "      <td>kengpdx</td>\n",
       "      <td>0</td>\n",
       "      <td>Deer in the headlights RT @lizzwinstead: Ben C...</td>\n",
       "      <td>2015-08-07 09:54:44 -0700</td>\n",
       "      <td>Pacific Time (US &amp; Canada)</td>\n",
       "      <td>Deer in the headlights RT lizzwinstead Ben Car...</td>\n",
       "    </tr>\n",
       "    <tr>\n",
       "      <th>10</th>\n",
       "      <td>Donald Trump</td>\n",
       "      <td>Negative</td>\n",
       "      <td>1.0000</td>\n",
       "      <td>jnjsmom</td>\n",
       "      <td>0</td>\n",
       "      <td>@JGreenDC @realDonaldTrump In all fairness #Bi...</td>\n",
       "      <td>2015-08-07 09:54:42 -0700</td>\n",
       "      <td>Central Time (US &amp; Canada)</td>\n",
       "      <td>JGreenDC realDonaldTrump In all fairness Bill...</td>\n",
       "    </tr>\n",
       "  </tbody>\n",
       "</table>\n",
       "</div>"
      ],
      "text/plain": [
       "       candidate sentiment  sentiment_confidence           name  \\\n",
       "1   Scott Walker  Positive                0.6333  PeacefulQuest   \n",
       "4   Donald Trump  Positive                0.7045     sharonDay5   \n",
       "5       Ted Cruz  Positive                0.6332    DRJohnson11   \n",
       "8     Ben Carson  Negative                0.6889        kengpdx   \n",
       "10  Donald Trump  Negative                1.0000        jnjsmom   \n",
       "\n",
       "    retweet_count                                               text  \\\n",
       "1              26  RT @ScottWalker: Didn't catch the full #GOPdeb...   \n",
       "4             156  RT @DanScavino: #GOPDebate w/ @realDonaldTrump...   \n",
       "5             228  RT @GregAbbott_TX: @TedCruz: \"On my first day ...   \n",
       "8               0  Deer in the headlights RT @lizzwinstead: Ben C...   \n",
       "10              0  @JGreenDC @realDonaldTrump In all fairness #Bi...   \n",
       "\n",
       "                tweet_created               user_timezone  \\\n",
       "1   2015-08-07 09:54:46 -0700                         NaN   \n",
       "4   2015-08-07 09:54:45 -0700                     Arizona   \n",
       "5   2015-08-07 09:54:44 -0700  Central Time (US & Canada)   \n",
       "8   2015-08-07 09:54:44 -0700  Pacific Time (US & Canada)   \n",
       "10  2015-08-07 09:54:42 -0700  Central Time (US & Canada)   \n",
       "\n",
       "                                               Limpio  \n",
       "1   RT ScottWalker Didn t catch the full GOPdebate...  \n",
       "4   RT DanScavino GOPDebate w realDonaldTrump deli...  \n",
       "5   RT GregAbbott TX TedCruz On my first day I wil...  \n",
       "8   Deer in the headlights RT lizzwinstead Ben Car...  \n",
       "10   JGreenDC realDonaldTrump In all fairness Bill...  "
      ]
     },
     "execution_count": 41,
     "metadata": {},
     "output_type": "execute_result"
    }
   ],
   "source": [
    "onlypo['Limpio'] = onlypo['text'].apply(clean)\n",
    "onlypo.head()"
   ]
  },
  {
   "cell_type": "code",
   "execution_count": 42,
   "id": "8d9e9ec3",
   "metadata": {
    "ExecuteTime": {
     "end_time": "2022-05-26T22:39:39.053810Z",
     "start_time": "2022-05-26T22:38:38.338177Z"
    }
   },
   "outputs": [
    {
     "data": {
      "text/html": [
       "<div>\n",
       "<style scoped>\n",
       "    .dataframe tbody tr th:only-of-type {\n",
       "        vertical-align: middle;\n",
       "    }\n",
       "\n",
       "    .dataframe tbody tr th {\n",
       "        vertical-align: top;\n",
       "    }\n",
       "\n",
       "    .dataframe thead th {\n",
       "        text-align: right;\n",
       "    }\n",
       "</style>\n",
       "<table border=\"1\" class=\"dataframe\">\n",
       "  <thead>\n",
       "    <tr style=\"text-align: right;\">\n",
       "      <th></th>\n",
       "      <th>candidate</th>\n",
       "      <th>sentiment</th>\n",
       "      <th>sentiment_confidence</th>\n",
       "      <th>name</th>\n",
       "      <th>retweet_count</th>\n",
       "      <th>text</th>\n",
       "      <th>tweet_created</th>\n",
       "      <th>user_timezone</th>\n",
       "      <th>Limpio</th>\n",
       "      <th>POS</th>\n",
       "    </tr>\n",
       "  </thead>\n",
       "  <tbody>\n",
       "    <tr>\n",
       "      <th>1</th>\n",
       "      <td>Scott Walker</td>\n",
       "      <td>Positive</td>\n",
       "      <td>0.6333</td>\n",
       "      <td>PeacefulQuest</td>\n",
       "      <td>26</td>\n",
       "      <td>RT @ScottWalker: Didn't catch the full #GOPdeb...</td>\n",
       "      <td>2015-08-07 09:54:46 -0700</td>\n",
       "      <td>NaN</td>\n",
       "      <td>RT ScottWalker Didn t catch the full GOPdebate...</td>\n",
       "      <td>[(RT, n), (ScottWalker, n), (catch, v), (full,...</td>\n",
       "    </tr>\n",
       "    <tr>\n",
       "      <th>4</th>\n",
       "      <td>Donald Trump</td>\n",
       "      <td>Positive</td>\n",
       "      <td>0.7045</td>\n",
       "      <td>sharonDay5</td>\n",
       "      <td>156</td>\n",
       "      <td>RT @DanScavino: #GOPDebate w/ @realDonaldTrump...</td>\n",
       "      <td>2015-08-07 09:54:45 -0700</td>\n",
       "      <td>Arizona</td>\n",
       "      <td>RT DanScavino GOPDebate w realDonaldTrump deli...</td>\n",
       "      <td>[(RT, n), (DanScavino, n), (GOPDebate, n), (w,...</td>\n",
       "    </tr>\n",
       "    <tr>\n",
       "      <th>5</th>\n",
       "      <td>Ted Cruz</td>\n",
       "      <td>Positive</td>\n",
       "      <td>0.6332</td>\n",
       "      <td>DRJohnson11</td>\n",
       "      <td>228</td>\n",
       "      <td>RT @GregAbbott_TX: @TedCruz: \"On my first day ...</td>\n",
       "      <td>2015-08-07 09:54:44 -0700</td>\n",
       "      <td>Central Time (US &amp; Canada)</td>\n",
       "      <td>RT GregAbbott TX TedCruz On my first day I wil...</td>\n",
       "      <td>[(RT, n), (GregAbbott, n), (TX, n), (TedCruz, ...</td>\n",
       "    </tr>\n",
       "    <tr>\n",
       "      <th>8</th>\n",
       "      <td>Ben Carson</td>\n",
       "      <td>Negative</td>\n",
       "      <td>0.6889</td>\n",
       "      <td>kengpdx</td>\n",
       "      <td>0</td>\n",
       "      <td>Deer in the headlights RT @lizzwinstead: Ben C...</td>\n",
       "      <td>2015-08-07 09:54:44 -0700</td>\n",
       "      <td>Pacific Time (US &amp; Canada)</td>\n",
       "      <td>Deer in the headlights RT lizzwinstead Ben Car...</td>\n",
       "      <td>[(Deer, n), (headlights, n), (RT, n), (lizzwin...</td>\n",
       "    </tr>\n",
       "    <tr>\n",
       "      <th>10</th>\n",
       "      <td>Donald Trump</td>\n",
       "      <td>Negative</td>\n",
       "      <td>1.0000</td>\n",
       "      <td>jnjsmom</td>\n",
       "      <td>0</td>\n",
       "      <td>@JGreenDC @realDonaldTrump In all fairness #Bi...</td>\n",
       "      <td>2015-08-07 09:54:42 -0700</td>\n",
       "      <td>Central Time (US &amp; Canada)</td>\n",
       "      <td>JGreenDC realDonaldTrump In all fairness Bill...</td>\n",
       "      <td>[(JGreenDC, n), (realDonaldTrump, n), (fairnes...</td>\n",
       "    </tr>\n",
       "  </tbody>\n",
       "</table>\n",
       "</div>"
      ],
      "text/plain": [
       "       candidate sentiment  sentiment_confidence           name  \\\n",
       "1   Scott Walker  Positive                0.6333  PeacefulQuest   \n",
       "4   Donald Trump  Positive                0.7045     sharonDay5   \n",
       "5       Ted Cruz  Positive                0.6332    DRJohnson11   \n",
       "8     Ben Carson  Negative                0.6889        kengpdx   \n",
       "10  Donald Trump  Negative                1.0000        jnjsmom   \n",
       "\n",
       "    retweet_count                                               text  \\\n",
       "1              26  RT @ScottWalker: Didn't catch the full #GOPdeb...   \n",
       "4             156  RT @DanScavino: #GOPDebate w/ @realDonaldTrump...   \n",
       "5             228  RT @GregAbbott_TX: @TedCruz: \"On my first day ...   \n",
       "8               0  Deer in the headlights RT @lizzwinstead: Ben C...   \n",
       "10              0  @JGreenDC @realDonaldTrump In all fairness #Bi...   \n",
       "\n",
       "                tweet_created               user_timezone  \\\n",
       "1   2015-08-07 09:54:46 -0700                         NaN   \n",
       "4   2015-08-07 09:54:45 -0700                     Arizona   \n",
       "5   2015-08-07 09:54:44 -0700  Central Time (US & Canada)   \n",
       "8   2015-08-07 09:54:44 -0700  Pacific Time (US & Canada)   \n",
       "10  2015-08-07 09:54:42 -0700  Central Time (US & Canada)   \n",
       "\n",
       "                                               Limpio  \\\n",
       "1   RT ScottWalker Didn t catch the full GOPdebate...   \n",
       "4   RT DanScavino GOPDebate w realDonaldTrump deli...   \n",
       "5   RT GregAbbott TX TedCruz On my first day I wil...   \n",
       "8   Deer in the headlights RT lizzwinstead Ben Car...   \n",
       "10   JGreenDC realDonaldTrump In all fairness Bill...   \n",
       "\n",
       "                                                  POS  \n",
       "1   [(RT, n), (ScottWalker, n), (catch, v), (full,...  \n",
       "4   [(RT, n), (DanScavino, n), (GOPDebate, n), (w,...  \n",
       "5   [(RT, n), (GregAbbott, n), (TX, n), (TedCruz, ...  \n",
       "8   [(Deer, n), (headlights, n), (RT, n), (lizzwin...  \n",
       "10  [(JGreenDC, n), (realDonaldTrump, n), (fairnes...  "
      ]
     },
     "execution_count": 42,
     "metadata": {},
     "output_type": "execute_result"
    }
   ],
   "source": [
    "onlypo['POS'] = onlypo['Limpio'].apply(token_stop_pos)\n",
    "onlypo.head()"
   ]
  },
  {
   "cell_type": "code",
   "execution_count": 43,
   "id": "7660dcce",
   "metadata": {
    "ExecuteTime": {
     "end_time": "2022-05-26T22:39:39.736390Z",
     "start_time": "2022-05-26T22:39:39.056809Z"
    }
   },
   "outputs": [
    {
     "data": {
      "text/html": [
       "<div>\n",
       "<style scoped>\n",
       "    .dataframe tbody tr th:only-of-type {\n",
       "        vertical-align: middle;\n",
       "    }\n",
       "\n",
       "    .dataframe tbody tr th {\n",
       "        vertical-align: top;\n",
       "    }\n",
       "\n",
       "    .dataframe thead th {\n",
       "        text-align: right;\n",
       "    }\n",
       "</style>\n",
       "<table border=\"1\" class=\"dataframe\">\n",
       "  <thead>\n",
       "    <tr style=\"text-align: right;\">\n",
       "      <th></th>\n",
       "      <th>candidate</th>\n",
       "      <th>sentiment</th>\n",
       "      <th>sentiment_confidence</th>\n",
       "      <th>name</th>\n",
       "      <th>retweet_count</th>\n",
       "      <th>text</th>\n",
       "      <th>tweet_created</th>\n",
       "      <th>user_timezone</th>\n",
       "      <th>Limpio</th>\n",
       "      <th>POS</th>\n",
       "      <th>Lemma</th>\n",
       "    </tr>\n",
       "  </thead>\n",
       "  <tbody>\n",
       "    <tr>\n",
       "      <th>1</th>\n",
       "      <td>Scott Walker</td>\n",
       "      <td>Positive</td>\n",
       "      <td>0.6333</td>\n",
       "      <td>PeacefulQuest</td>\n",
       "      <td>26</td>\n",
       "      <td>RT @ScottWalker: Didn't catch the full #GOPdeb...</td>\n",
       "      <td>2015-08-07 09:54:46 -0700</td>\n",
       "      <td>NaN</td>\n",
       "      <td>RT ScottWalker Didn t catch the full GOPdebate...</td>\n",
       "      <td>[(RT, n), (ScottWalker, n), (catch, v), (full,...</td>\n",
       "      <td>RT ScottWalker catch full GOPdebate last nig...</td>\n",
       "    </tr>\n",
       "    <tr>\n",
       "      <th>4</th>\n",
       "      <td>Donald Trump</td>\n",
       "      <td>Positive</td>\n",
       "      <td>0.7045</td>\n",
       "      <td>sharonDay5</td>\n",
       "      <td>156</td>\n",
       "      <td>RT @DanScavino: #GOPDebate w/ @realDonaldTrump...</td>\n",
       "      <td>2015-08-07 09:54:45 -0700</td>\n",
       "      <td>Arizona</td>\n",
       "      <td>RT DanScavino GOPDebate w realDonaldTrump deli...</td>\n",
       "      <td>[(RT, n), (DanScavino, n), (GOPDebate, n), (w,...</td>\n",
       "      <td>RT DanScavino GOPDebate w realDonaldTrump de...</td>\n",
       "    </tr>\n",
       "    <tr>\n",
       "      <th>5</th>\n",
       "      <td>Ted Cruz</td>\n",
       "      <td>Positive</td>\n",
       "      <td>0.6332</td>\n",
       "      <td>DRJohnson11</td>\n",
       "      <td>228</td>\n",
       "      <td>RT @GregAbbott_TX: @TedCruz: \"On my first day ...</td>\n",
       "      <td>2015-08-07 09:54:44 -0700</td>\n",
       "      <td>Central Time (US &amp; Canada)</td>\n",
       "      <td>RT GregAbbott TX TedCruz On my first day I wil...</td>\n",
       "      <td>[(RT, n), (GregAbbott, n), (TX, n), (TedCruz, ...</td>\n",
       "      <td>RT GregAbbott TX TedCruz first day rescind e...</td>\n",
       "    </tr>\n",
       "    <tr>\n",
       "      <th>8</th>\n",
       "      <td>Ben Carson</td>\n",
       "      <td>Negative</td>\n",
       "      <td>0.6889</td>\n",
       "      <td>kengpdx</td>\n",
       "      <td>0</td>\n",
       "      <td>Deer in the headlights RT @lizzwinstead: Ben C...</td>\n",
       "      <td>2015-08-07 09:54:44 -0700</td>\n",
       "      <td>Pacific Time (US &amp; Canada)</td>\n",
       "      <td>Deer in the headlights RT lizzwinstead Ben Car...</td>\n",
       "      <td>[(Deer, n), (headlights, n), (RT, n), (lizzwin...</td>\n",
       "      <td>Deer headlight RT lizzwinstead Ben Carson ma...</td>\n",
       "    </tr>\n",
       "    <tr>\n",
       "      <th>10</th>\n",
       "      <td>Donald Trump</td>\n",
       "      <td>Negative</td>\n",
       "      <td>1.0000</td>\n",
       "      <td>jnjsmom</td>\n",
       "      <td>0</td>\n",
       "      <td>@JGreenDC @realDonaldTrump In all fairness #Bi...</td>\n",
       "      <td>2015-08-07 09:54:42 -0700</td>\n",
       "      <td>Central Time (US &amp; Canada)</td>\n",
       "      <td>JGreenDC realDonaldTrump In all fairness Bill...</td>\n",
       "      <td>[(JGreenDC, n), (realDonaldTrump, n), (fairnes...</td>\n",
       "      <td>JGreenDC realDonaldTrump fairness BillClinto...</td>\n",
       "    </tr>\n",
       "  </tbody>\n",
       "</table>\n",
       "</div>"
      ],
      "text/plain": [
       "       candidate sentiment  sentiment_confidence           name  \\\n",
       "1   Scott Walker  Positive                0.6333  PeacefulQuest   \n",
       "4   Donald Trump  Positive                0.7045     sharonDay5   \n",
       "5       Ted Cruz  Positive                0.6332    DRJohnson11   \n",
       "8     Ben Carson  Negative                0.6889        kengpdx   \n",
       "10  Donald Trump  Negative                1.0000        jnjsmom   \n",
       "\n",
       "    retweet_count                                               text  \\\n",
       "1              26  RT @ScottWalker: Didn't catch the full #GOPdeb...   \n",
       "4             156  RT @DanScavino: #GOPDebate w/ @realDonaldTrump...   \n",
       "5             228  RT @GregAbbott_TX: @TedCruz: \"On my first day ...   \n",
       "8               0  Deer in the headlights RT @lizzwinstead: Ben C...   \n",
       "10              0  @JGreenDC @realDonaldTrump In all fairness #Bi...   \n",
       "\n",
       "                tweet_created               user_timezone  \\\n",
       "1   2015-08-07 09:54:46 -0700                         NaN   \n",
       "4   2015-08-07 09:54:45 -0700                     Arizona   \n",
       "5   2015-08-07 09:54:44 -0700  Central Time (US & Canada)   \n",
       "8   2015-08-07 09:54:44 -0700  Pacific Time (US & Canada)   \n",
       "10  2015-08-07 09:54:42 -0700  Central Time (US & Canada)   \n",
       "\n",
       "                                               Limpio  \\\n",
       "1   RT ScottWalker Didn t catch the full GOPdebate...   \n",
       "4   RT DanScavino GOPDebate w realDonaldTrump deli...   \n",
       "5   RT GregAbbott TX TedCruz On my first day I wil...   \n",
       "8   Deer in the headlights RT lizzwinstead Ben Car...   \n",
       "10   JGreenDC realDonaldTrump In all fairness Bill...   \n",
       "\n",
       "                                                  POS  \\\n",
       "1   [(RT, n), (ScottWalker, n), (catch, v), (full,...   \n",
       "4   [(RT, n), (DanScavino, n), (GOPDebate, n), (w,...   \n",
       "5   [(RT, n), (GregAbbott, n), (TX, n), (TedCruz, ...   \n",
       "8   [(Deer, n), (headlights, n), (RT, n), (lizzwin...   \n",
       "10  [(JGreenDC, n), (realDonaldTrump, n), (fairnes...   \n",
       "\n",
       "                                                Lemma  \n",
       "1     RT ScottWalker catch full GOPdebate last nig...  \n",
       "4     RT DanScavino GOPDebate w realDonaldTrump de...  \n",
       "5     RT GregAbbott TX TedCruz first day rescind e...  \n",
       "8     Deer headlight RT lizzwinstead Ben Carson ma...  \n",
       "10    JGreenDC realDonaldTrump fairness BillClinto...  "
      ]
     },
     "execution_count": 43,
     "metadata": {},
     "output_type": "execute_result"
    }
   ],
   "source": [
    "onlypo['Lemma'] = onlypo['POS'].apply(lemmatize)\n",
    "onlypo.head()"
   ]
  },
  {
   "cell_type": "code",
   "execution_count": 44,
   "id": "9d915eb5",
   "metadata": {
    "ExecuteTime": {
     "end_time": "2022-05-26T22:39:39.767379Z",
     "start_time": "2022-05-26T22:39:39.738389Z"
    }
   },
   "outputs": [
    {
     "data": {
      "text/html": [
       "<div>\n",
       "<style scoped>\n",
       "    .dataframe tbody tr th:only-of-type {\n",
       "        vertical-align: middle;\n",
       "    }\n",
       "\n",
       "    .dataframe tbody tr th {\n",
       "        vertical-align: top;\n",
       "    }\n",
       "\n",
       "    .dataframe thead th {\n",
       "        text-align: right;\n",
       "    }\n",
       "</style>\n",
       "<table border=\"1\" class=\"dataframe\">\n",
       "  <thead>\n",
       "    <tr style=\"text-align: right;\">\n",
       "      <th></th>\n",
       "      <th>text</th>\n",
       "      <th>Lemma</th>\n",
       "    </tr>\n",
       "  </thead>\n",
       "  <tbody>\n",
       "    <tr>\n",
       "      <th>1</th>\n",
       "      <td>RT @ScottWalker: Didn't catch the full #GOPdeb...</td>\n",
       "      <td>RT ScottWalker catch full GOPdebate last nig...</td>\n",
       "    </tr>\n",
       "    <tr>\n",
       "      <th>4</th>\n",
       "      <td>RT @DanScavino: #GOPDebate w/ @realDonaldTrump...</td>\n",
       "      <td>RT DanScavino GOPDebate w realDonaldTrump de...</td>\n",
       "    </tr>\n",
       "    <tr>\n",
       "      <th>5</th>\n",
       "      <td>RT @GregAbbott_TX: @TedCruz: \"On my first day ...</td>\n",
       "      <td>RT GregAbbott TX TedCruz first day rescind e...</td>\n",
       "    </tr>\n",
       "    <tr>\n",
       "      <th>8</th>\n",
       "      <td>Deer in the headlights RT @lizzwinstead: Ben C...</td>\n",
       "      <td>Deer headlight RT lizzwinstead Ben Carson ma...</td>\n",
       "    </tr>\n",
       "    <tr>\n",
       "      <th>10</th>\n",
       "      <td>@JGreenDC @realDonaldTrump In all fairness #Bi...</td>\n",
       "      <td>JGreenDC realDonaldTrump fairness BillClinto...</td>\n",
       "    </tr>\n",
       "    <tr>\n",
       "      <th>...</th>\n",
       "      <td>...</td>\n",
       "      <td>...</td>\n",
       "    </tr>\n",
       "    <tr>\n",
       "      <th>13865</th>\n",
       "      <td>RT @RWSurferGirl: Fox is cherry picking the ca...</td>\n",
       "      <td>RT RWSurferGirl Fox cherry pick candidate Je...</td>\n",
       "    </tr>\n",
       "    <tr>\n",
       "      <th>13867</th>\n",
       "      <td>RT @georgehenryw: Who thought Huckabee exceede...</td>\n",
       "      <td>RT georgehenryw think Huckabee exceed expect...</td>\n",
       "    </tr>\n",
       "    <tr>\n",
       "      <th>13868</th>\n",
       "      <td>RT @Lrihendry: #TedCruz As President, I will a...</td>\n",
       "      <td>RT Lrihendry TedCruz President always tell t...</td>\n",
       "    </tr>\n",
       "    <tr>\n",
       "      <th>13869</th>\n",
       "      <td>RT @JRehling: #GOPDebate Donald Trump says tha...</td>\n",
       "      <td>RT JRehling GOPDebate Donald Trump say time ...</td>\n",
       "    </tr>\n",
       "    <tr>\n",
       "      <th>13870</th>\n",
       "      <td>RT @Lrihendry: #TedCruz headed into the Presid...</td>\n",
       "      <td>RT Lrihendry TedCruz head Presidential Debat...</td>\n",
       "    </tr>\n",
       "  </tbody>\n",
       "</table>\n",
       "<p>6284 rows × 2 columns</p>\n",
       "</div>"
      ],
      "text/plain": [
       "                                                    text  \\\n",
       "1      RT @ScottWalker: Didn't catch the full #GOPdeb...   \n",
       "4      RT @DanScavino: #GOPDebate w/ @realDonaldTrump...   \n",
       "5      RT @GregAbbott_TX: @TedCruz: \"On my first day ...   \n",
       "8      Deer in the headlights RT @lizzwinstead: Ben C...   \n",
       "10     @JGreenDC @realDonaldTrump In all fairness #Bi...   \n",
       "...                                                  ...   \n",
       "13865  RT @RWSurferGirl: Fox is cherry picking the ca...   \n",
       "13867  RT @georgehenryw: Who thought Huckabee exceede...   \n",
       "13868  RT @Lrihendry: #TedCruz As President, I will a...   \n",
       "13869  RT @JRehling: #GOPDebate Donald Trump says tha...   \n",
       "13870  RT @Lrihendry: #TedCruz headed into the Presid...   \n",
       "\n",
       "                                                   Lemma  \n",
       "1        RT ScottWalker catch full GOPdebate last nig...  \n",
       "4        RT DanScavino GOPDebate w realDonaldTrump de...  \n",
       "5        RT GregAbbott TX TedCruz first day rescind e...  \n",
       "8        Deer headlight RT lizzwinstead Ben Carson ma...  \n",
       "10       JGreenDC realDonaldTrump fairness BillClinto...  \n",
       "...                                                  ...  \n",
       "13865    RT RWSurferGirl Fox cherry pick candidate Je...  \n",
       "13867    RT georgehenryw think Huckabee exceed expect...  \n",
       "13868    RT Lrihendry TedCruz President always tell t...  \n",
       "13869    RT JRehling GOPDebate Donald Trump say time ...  \n",
       "13870    RT Lrihendry TedCruz head Presidential Debat...  \n",
       "\n",
       "[6284 rows x 2 columns]"
      ]
     },
     "execution_count": 44,
     "metadata": {},
     "output_type": "execute_result"
    }
   ],
   "source": [
    "onlypo[['text', 'Lemma']]"
   ]
  },
  {
   "cell_type": "code",
   "execution_count": 45,
   "id": "2dca612c",
   "metadata": {
    "ExecuteTime": {
     "end_time": "2022-05-26T22:40:01.163473Z",
     "start_time": "2022-05-26T22:40:01.154480Z"
    }
   },
   "outputs": [],
   "source": [
    "fin_data = pd.DataFrame(onlypo[['text', 'Lemma']])"
   ]
  },
  {
   "cell_type": "code",
   "execution_count": 46,
   "id": "daf64148",
   "metadata": {
    "ExecuteTime": {
     "end_time": "2022-05-26T22:40:04.437503Z",
     "start_time": "2022-05-26T22:40:02.810507Z"
    }
   },
   "outputs": [
    {
     "data": {
      "text/html": [
       "<div>\n",
       "<style scoped>\n",
       "    .dataframe tbody tr th:only-of-type {\n",
       "        vertical-align: middle;\n",
       "    }\n",
       "\n",
       "    .dataframe tbody tr th {\n",
       "        vertical-align: top;\n",
       "    }\n",
       "\n",
       "    .dataframe thead th {\n",
       "        text-align: right;\n",
       "    }\n",
       "</style>\n",
       "<table border=\"1\" class=\"dataframe\">\n",
       "  <thead>\n",
       "    <tr style=\"text-align: right;\">\n",
       "      <th></th>\n",
       "      <th>text</th>\n",
       "      <th>Lemma</th>\n",
       "      <th>Polarity</th>\n",
       "      <th>Analysis</th>\n",
       "    </tr>\n",
       "  </thead>\n",
       "  <tbody>\n",
       "    <tr>\n",
       "      <th>1</th>\n",
       "      <td>RT @ScottWalker: Didn't catch the full #GOPdeb...</td>\n",
       "      <td>RT ScottWalker catch full GOPdebate last nig...</td>\n",
       "      <td>0.3375</td>\n",
       "      <td>Positive</td>\n",
       "    </tr>\n",
       "    <tr>\n",
       "      <th>4</th>\n",
       "      <td>RT @DanScavino: #GOPDebate w/ @realDonaldTrump...</td>\n",
       "      <td>RT DanScavino GOPDebate w realDonaldTrump de...</td>\n",
       "      <td>0.1600</td>\n",
       "      <td>Positive</td>\n",
       "    </tr>\n",
       "    <tr>\n",
       "      <th>5</th>\n",
       "      <td>RT @GregAbbott_TX: @TedCruz: \"On my first day ...</td>\n",
       "      <td>RT GregAbbott TX TedCruz first day rescind e...</td>\n",
       "      <td>-0.0500</td>\n",
       "      <td>Negative</td>\n",
       "    </tr>\n",
       "    <tr>\n",
       "      <th>8</th>\n",
       "      <td>Deer in the headlights RT @lizzwinstead: Ben C...</td>\n",
       "      <td>Deer headlight RT lizzwinstead Ben Carson ma...</td>\n",
       "      <td>0.0000</td>\n",
       "      <td>Neutral</td>\n",
       "    </tr>\n",
       "    <tr>\n",
       "      <th>10</th>\n",
       "      <td>@JGreenDC @realDonaldTrump In all fairness #Bi...</td>\n",
       "      <td>JGreenDC realDonaldTrump fairness BillClinto...</td>\n",
       "      <td>0.6000</td>\n",
       "      <td>Positive</td>\n",
       "    </tr>\n",
       "  </tbody>\n",
       "</table>\n",
       "</div>"
      ],
      "text/plain": [
       "                                                 text  \\\n",
       "1   RT @ScottWalker: Didn't catch the full #GOPdeb...   \n",
       "4   RT @DanScavino: #GOPDebate w/ @realDonaldTrump...   \n",
       "5   RT @GregAbbott_TX: @TedCruz: \"On my first day ...   \n",
       "8   Deer in the headlights RT @lizzwinstead: Ben C...   \n",
       "10  @JGreenDC @realDonaldTrump In all fairness #Bi...   \n",
       "\n",
       "                                                Lemma  Polarity  Analysis  \n",
       "1     RT ScottWalker catch full GOPdebate last nig...    0.3375  Positive  \n",
       "4     RT DanScavino GOPDebate w realDonaldTrump de...    0.1600  Positive  \n",
       "5     RT GregAbbott TX TedCruz first day rescind e...   -0.0500  Negative  \n",
       "8     Deer headlight RT lizzwinstead Ben Carson ma...    0.0000   Neutral  \n",
       "10    JGreenDC realDonaldTrump fairness BillClinto...    0.6000  Positive  "
      ]
     },
     "execution_count": 46,
     "metadata": {},
     "output_type": "execute_result"
    }
   ],
   "source": [
    "fin_data['Polarity'] = fin_data['Lemma'].apply(getPolarity) \n",
    "fin_data['Analysis'] = fin_data['Polarity'].apply(analysis)\n",
    "fin_data.head()"
   ]
  },
  {
   "cell_type": "code",
   "execution_count": 47,
   "id": "72a901dc",
   "metadata": {
    "ExecuteTime": {
     "end_time": "2022-05-26T22:40:05.984810Z",
     "start_time": "2022-05-26T22:40:05.962821Z"
    }
   },
   "outputs": [
    {
     "data": {
      "text/plain": [
       "Neutral     3202\n",
       "Positive    2036\n",
       "Negative    1046\n",
       "Name: Analysis, dtype: int64"
      ]
     },
     "execution_count": 47,
     "metadata": {},
     "output_type": "execute_result"
    }
   ],
   "source": [
    "tb_counts = fin_data.Analysis.value_counts()\n",
    "tb_counts"
   ]
  },
  {
   "cell_type": "code",
   "execution_count": 48,
   "id": "ab05d357",
   "metadata": {
    "ExecuteTime": {
     "end_time": "2022-05-26T22:40:07.196830Z",
     "start_time": "2022-05-26T22:40:07.042929Z"
    }
   },
   "outputs": [
    {
     "data": {
      "text/plain": [
       "([<matplotlib.patches.Wedge at 0x24a4e6a0940>,\n",
       "  <matplotlib.patches.Wedge at 0x24a4e6aa910>,\n",
       "  <matplotlib.patches.Wedge at 0x24a4e6c26a0>],\n",
       " [Text(-0.032990806607029785, 1.0995051644623675, 'Neutral'),\n",
       "  Text(-0.5205358058561896, -0.9690420397597038, 'Positive'),\n",
       "  Text(1.1695840896637224, -0.6742203328330302, 'Negative')],\n",
       " [Text(-0.017994985422016246, 0.5997300897067458, '51.0%'),\n",
       "  Text(-0.28392862137610336, -0.5285683853234747, '32.4%'),\n",
       "  Text(0.736404797195677, -0.4245090984504264, '16.6%')])"
      ]
     },
     "execution_count": 48,
     "metadata": {},
     "output_type": "execute_result"
    },
    {
     "data": {
      "image/png": "[encoded data removed]",
      "text/plain": [
       "<Figure size 720x504 with 1 Axes>"
      ]
     },
     "metadata": {},
     "output_type": "display_data"
    }
   ],
   "source": [
    "%matplotlib inline\n",
    "\n",
    "tb_count= fin_data.Analysis.value_counts()\n",
    "plt.figure(figsize=(10, 7))\n",
    "plt.pie(tb_counts.values, labels = tb_counts.index, explode = (0, 0, 0.25), autopct='%1.1f%%', shadow=False)"
   ]
  },
  {
   "cell_type": "code",
   "execution_count": 49,
   "id": "7a1c7d81",
   "metadata": {
    "ExecuteTime": {
     "end_time": "2022-05-26T22:40:08.721517Z",
     "start_time": "2022-05-26T22:40:07.907086Z"
    }
   },
   "outputs": [],
   "source": [
    "fin_data['Vader Sentiment'] = fin_data['Lemma'].apply(vadersentimentanalysis)"
   ]
  },
  {
   "cell_type": "code",
   "execution_count": 50,
   "id": "0c96baf2",
   "metadata": {
    "ExecuteTime": {
     "end_time": "2022-05-26T22:40:09.530144Z",
     "start_time": "2022-05-26T22:40:09.499166Z"
    }
   },
   "outputs": [
    {
     "data": {
      "text/html": [
       "<div>\n",
       "<style scoped>\n",
       "    .dataframe tbody tr th:only-of-type {\n",
       "        vertical-align: middle;\n",
       "    }\n",
       "\n",
       "    .dataframe tbody tr th {\n",
       "        vertical-align: top;\n",
       "    }\n",
       "\n",
       "    .dataframe thead th {\n",
       "        text-align: right;\n",
       "    }\n",
       "</style>\n",
       "<table border=\"1\" class=\"dataframe\">\n",
       "  <thead>\n",
       "    <tr style=\"text-align: right;\">\n",
       "      <th></th>\n",
       "      <th>text</th>\n",
       "      <th>Lemma</th>\n",
       "      <th>Polarity</th>\n",
       "      <th>Analysis</th>\n",
       "      <th>Vader Sentiment</th>\n",
       "      <th>Vader Analysis</th>\n",
       "    </tr>\n",
       "  </thead>\n",
       "  <tbody>\n",
       "    <tr>\n",
       "      <th>1</th>\n",
       "      <td>RT @ScottWalker: Didn't catch the full #GOPdeb...</td>\n",
       "      <td>RT ScottWalker catch full GOPdebate last nig...</td>\n",
       "      <td>0.3375</td>\n",
       "      <td>Positive</td>\n",
       "      <td>0.6369</td>\n",
       "      <td>Positive</td>\n",
       "    </tr>\n",
       "    <tr>\n",
       "      <th>4</th>\n",
       "      <td>RT @DanScavino: #GOPDebate w/ @realDonaldTrump...</td>\n",
       "      <td>RT DanScavino GOPDebate w realDonaldTrump de...</td>\n",
       "      <td>0.1600</td>\n",
       "      <td>Positive</td>\n",
       "      <td>0.0000</td>\n",
       "      <td>Neutral</td>\n",
       "    </tr>\n",
       "    <tr>\n",
       "      <th>5</th>\n",
       "      <td>RT @GregAbbott_TX: @TedCruz: \"On my first day ...</td>\n",
       "      <td>RT GregAbbott TX TedCruz first day rescind e...</td>\n",
       "      <td>-0.0500</td>\n",
       "      <td>Negative</td>\n",
       "      <td>-0.0943</td>\n",
       "      <td>Neutral</td>\n",
       "    </tr>\n",
       "    <tr>\n",
       "      <th>8</th>\n",
       "      <td>Deer in the headlights RT @lizzwinstead: Ben C...</td>\n",
       "      <td>Deer headlight RT lizzwinstead Ben Carson ma...</td>\n",
       "      <td>0.0000</td>\n",
       "      <td>Neutral</td>\n",
       "      <td>0.0000</td>\n",
       "      <td>Neutral</td>\n",
       "    </tr>\n",
       "    <tr>\n",
       "      <th>10</th>\n",
       "      <td>@JGreenDC @realDonaldTrump In all fairness #Bi...</td>\n",
       "      <td>JGreenDC realDonaldTrump fairness BillClinto...</td>\n",
       "      <td>0.6000</td>\n",
       "      <td>Positive</td>\n",
       "      <td>0.0000</td>\n",
       "      <td>Neutral</td>\n",
       "    </tr>\n",
       "  </tbody>\n",
       "</table>\n",
       "</div>"
      ],
      "text/plain": [
       "                                                 text  \\\n",
       "1   RT @ScottWalker: Didn't catch the full #GOPdeb...   \n",
       "4   RT @DanScavino: #GOPDebate w/ @realDonaldTrump...   \n",
       "5   RT @GregAbbott_TX: @TedCruz: \"On my first day ...   \n",
       "8   Deer in the headlights RT @lizzwinstead: Ben C...   \n",
       "10  @JGreenDC @realDonaldTrump In all fairness #Bi...   \n",
       "\n",
       "                                                Lemma  Polarity  Analysis  \\\n",
       "1     RT ScottWalker catch full GOPdebate last nig...    0.3375  Positive   \n",
       "4     RT DanScavino GOPDebate w realDonaldTrump de...    0.1600  Positive   \n",
       "5     RT GregAbbott TX TedCruz first day rescind e...   -0.0500  Negative   \n",
       "8     Deer headlight RT lizzwinstead Ben Carson ma...    0.0000   Neutral   \n",
       "10    JGreenDC realDonaldTrump fairness BillClinto...    0.6000  Positive   \n",
       "\n",
       "    Vader Sentiment Vader Analysis  \n",
       "1            0.6369       Positive  \n",
       "4            0.0000        Neutral  \n",
       "5           -0.0943        Neutral  \n",
       "8            0.0000        Neutral  \n",
       "10           0.0000        Neutral  "
      ]
     },
     "execution_count": 50,
     "metadata": {},
     "output_type": "execute_result"
    }
   ],
   "source": [
    "fin_data['Vader Analysis'] = fin_data['Vader Sentiment'].apply(vader_analysis)\n",
    "fin_data.head()"
   ]
  },
  {
   "cell_type": "code",
   "execution_count": 51,
   "id": "6ef98660",
   "metadata": {
    "ExecuteTime": {
     "end_time": "2022-05-26T22:40:10.641263Z",
     "start_time": "2022-05-26T22:40:10.618280Z"
    }
   },
   "outputs": [
    {
     "data": {
      "text/plain": [
       "Neutral     4319\n",
       "Positive    1057\n",
       "Negative     908\n",
       "Name: Vader Analysis, dtype: int64"
      ]
     },
     "execution_count": 51,
     "metadata": {},
     "output_type": "execute_result"
    }
   ],
   "source": [
    "vader_counts = fin_data['Vader Analysis'].value_counts()\n",
    "vader_counts"
   ]
  },
  {
   "cell_type": "code",
   "execution_count": 52,
   "id": "3a872f4e",
   "metadata": {
    "ExecuteTime": {
     "end_time": "2022-05-26T22:40:11.913171Z",
     "start_time": "2022-05-26T22:40:11.763268Z"
    }
   },
   "outputs": [
    {
     "data": {
      "text/plain": [
       "([<matplotlib.patches.Wedge at 0x24a4e708490>,\n",
       "  <matplotlib.patches.Wedge at 0x24a4e708bb0>,\n",
       "  <matplotlib.patches.Wedge at 0x24a4e716310>],\n",
       " [Text(-0.6660606820206738, 0.9981799276013092, 'Neutral'),\n",
       "  Text(0.14748543164963734, -1.0900679095593633, 'Positive'),\n",
       "  Text(0.9885984844452821, -0.4823619352234292, 'Negative')],\n",
       " [Text(-0.388535397845393, 0.582271624434097, '68.7%'),\n",
       "  Text(0.08044659908162037, -0.5945824961232891, '16.8%'),\n",
       "  Text(0.5392355369701538, -0.2631065101218704, '14.4%')])"
      ]
     },
     "execution_count": 52,
     "metadata": {},
     "output_type": "execute_result"
    },
    {
     "data": {
      "image/png": "[encoded data removed]",
      "text/plain": [
       "<Figure size 720x504 with 1 Axes>"
      ]
     },
     "metadata": {},
     "output_type": "display_data"
    }
   ],
   "source": [
    "vader_counts= fin_data['Vader Analysis'].value_counts()\n",
    "plt.figure(figsize=(10, 7))\n",
    "plt.pie(vader_counts.values, labels = vader_counts.index, explode = (0.1, 0, 0), autopct='%1.1f%%', shadow=False)"
   ]
  },
  {
   "cell_type": "code",
   "execution_count": 53,
   "id": "243f9205",
   "metadata": {
    "ExecuteTime": {
     "end_time": "2022-05-26T22:40:17.071293Z",
     "start_time": "2022-05-26T22:40:13.411548Z"
    }
   },
   "outputs": [
    {
     "data": {
      "text/html": [
       "<div>\n",
       "<style scoped>\n",
       "    .dataframe tbody tr th:only-of-type {\n",
       "        vertical-align: middle;\n",
       "    }\n",
       "\n",
       "    .dataframe tbody tr th {\n",
       "        vertical-align: top;\n",
       "    }\n",
       "\n",
       "    .dataframe thead th {\n",
       "        text-align: right;\n",
       "    }\n",
       "</style>\n",
       "<table border=\"1\" class=\"dataframe\">\n",
       "  <thead>\n",
       "    <tr style=\"text-align: right;\">\n",
       "      <th></th>\n",
       "      <th>text</th>\n",
       "      <th>Lemma</th>\n",
       "      <th>Polarity</th>\n",
       "      <th>Analysis</th>\n",
       "      <th>Vader Sentiment</th>\n",
       "      <th>Vader Analysis</th>\n",
       "      <th>SWN analysis</th>\n",
       "    </tr>\n",
       "  </thead>\n",
       "  <tbody>\n",
       "    <tr>\n",
       "      <th>1</th>\n",
       "      <td>RT @ScottWalker: Didn't catch the full #GOPdeb...</td>\n",
       "      <td>RT ScottWalker catch full GOPdebate last nig...</td>\n",
       "      <td>0.3375</td>\n",
       "      <td>Positive</td>\n",
       "      <td>0.6369</td>\n",
       "      <td>Positive</td>\n",
       "      <td>Positive</td>\n",
       "    </tr>\n",
       "    <tr>\n",
       "      <th>4</th>\n",
       "      <td>RT @DanScavino: #GOPDebate w/ @realDonaldTrump...</td>\n",
       "      <td>RT DanScavino GOPDebate w realDonaldTrump de...</td>\n",
       "      <td>0.1600</td>\n",
       "      <td>Positive</td>\n",
       "      <td>0.0000</td>\n",
       "      <td>Neutral</td>\n",
       "      <td>Negative</td>\n",
       "    </tr>\n",
       "    <tr>\n",
       "      <th>5</th>\n",
       "      <td>RT @GregAbbott_TX: @TedCruz: \"On my first day ...</td>\n",
       "      <td>RT GregAbbott TX TedCruz first day rescind e...</td>\n",
       "      <td>-0.0500</td>\n",
       "      <td>Negative</td>\n",
       "      <td>-0.0943</td>\n",
       "      <td>Neutral</td>\n",
       "      <td>Positive</td>\n",
       "    </tr>\n",
       "    <tr>\n",
       "      <th>8</th>\n",
       "      <td>Deer in the headlights RT @lizzwinstead: Ben C...</td>\n",
       "      <td>Deer headlight RT lizzwinstead Ben Carson ma...</td>\n",
       "      <td>0.0000</td>\n",
       "      <td>Neutral</td>\n",
       "      <td>0.0000</td>\n",
       "      <td>Neutral</td>\n",
       "      <td>Positive</td>\n",
       "    </tr>\n",
       "    <tr>\n",
       "      <th>10</th>\n",
       "      <td>@JGreenDC @realDonaldTrump In all fairness #Bi...</td>\n",
       "      <td>JGreenDC realDonaldTrump fairness BillClinto...</td>\n",
       "      <td>0.6000</td>\n",
       "      <td>Positive</td>\n",
       "      <td>0.0000</td>\n",
       "      <td>Neutral</td>\n",
       "      <td>Neutral</td>\n",
       "    </tr>\n",
       "  </tbody>\n",
       "</table>\n",
       "</div>"
      ],
      "text/plain": [
       "                                                 text  \\\n",
       "1   RT @ScottWalker: Didn't catch the full #GOPdeb...   \n",
       "4   RT @DanScavino: #GOPDebate w/ @realDonaldTrump...   \n",
       "5   RT @GregAbbott_TX: @TedCruz: \"On my first day ...   \n",
       "8   Deer in the headlights RT @lizzwinstead: Ben C...   \n",
       "10  @JGreenDC @realDonaldTrump In all fairness #Bi...   \n",
       "\n",
       "                                                Lemma  Polarity  Analysis  \\\n",
       "1     RT ScottWalker catch full GOPdebate last nig...    0.3375  Positive   \n",
       "4     RT DanScavino GOPDebate w realDonaldTrump de...    0.1600  Positive   \n",
       "5     RT GregAbbott TX TedCruz first day rescind e...   -0.0500  Negative   \n",
       "8     Deer headlight RT lizzwinstead Ben Carson ma...    0.0000   Neutral   \n",
       "10    JGreenDC realDonaldTrump fairness BillClinto...    0.6000  Positive   \n",
       "\n",
       "    Vader Sentiment Vader Analysis SWN analysis  \n",
       "1            0.6369       Positive     Positive  \n",
       "4            0.0000        Neutral     Negative  \n",
       "5           -0.0943        Neutral     Positive  \n",
       "8            0.0000        Neutral     Positive  \n",
       "10           0.0000        Neutral      Neutral  "
      ]
     },
     "execution_count": 53,
     "metadata": {},
     "output_type": "execute_result"
    }
   ],
   "source": [
    "fin_data['SWN analysis'] = dataset['POS'].apply(sentiwordnetanalysis)\n",
    "fin_data.head()"
   ]
  },
  {
   "cell_type": "code",
   "execution_count": 54,
   "id": "c4c05a5b",
   "metadata": {
    "ExecuteTime": {
     "end_time": "2022-05-26T22:40:18.715065Z",
     "start_time": "2022-05-26T22:40:18.700077Z"
    }
   },
   "outputs": [
    {
     "data": {
      "text/plain": [
       "Positive    2880\n",
       "Negative    1786\n",
       "Neutral     1610\n",
       "0              8\n",
       "Name: SWN analysis, dtype: int64"
      ]
     },
     "execution_count": 54,
     "metadata": {},
     "output_type": "execute_result"
    }
   ],
   "source": [
    "swn_counts= fin_data['SWN analysis'].value_counts()\n",
    "swn_counts"
   ]
  },
  {
   "cell_type": "code",
   "execution_count": 55,
   "id": "ec1dd629",
   "metadata": {
    "ExecuteTime": {
     "end_time": "2022-05-26T22:40:19.959069Z",
     "start_time": "2022-05-26T22:40:19.780183Z"
    }
   },
   "outputs": [
    {
     "data": {
      "text/plain": [
       "([<matplotlib.patches.Wedge at 0x24a4e75a1c0>,\n",
       "  <matplotlib.patches.Wedge at 0x24a4e75a8e0>,\n",
       "  <matplotlib.patches.Wedge at 0x24a4e765040>,\n",
       "  <matplotlib.patches.Wedge at 0x24a4e765760>],\n",
       " [Text(0.14366965333381534, 1.0905773841002488, 'Positive'),\n",
       "  Text(-0.8882348187568564, -0.6488751087443366, 'Negative'),\n",
       "  Text(0.7561389577669066, -0.7989079274529552, 'Neutral'),\n",
       "  Text(1.0999912025322274, -0.004399358101414309, '0')],\n",
       " [Text(0.07836526545480836, 0.5948603913274083, '45.8%'),\n",
       "  Text(-0.4844917193219216, -0.35393187749691085, '28.4%'),\n",
       "  Text(0.41243943150922174, -0.4357679604288846, '25.6%'),\n",
       "  Text(0.5999952013812149, -0.002399649873498714, '0.1%')])"
      ]
     },
     "execution_count": 55,
     "metadata": {},
     "output_type": "execute_result"
    },
    {
     "data": {
      "image/png": "[encoded data removed]",
      "text/plain": [
       "<Figure size 720x504 with 1 Axes>"
      ]
     },
     "metadata": {},
     "output_type": "display_data"
    }
   ],
   "source": [
    "swn_counts= fin_data['SWN analysis'].value_counts()\n",
    "plt.figure(figsize=(10, 7))\n",
    "plt.pie(swn_counts.values, labels = swn_counts.index, autopct='%1.1f%%', shadow=False)"
   ]
  },
  {
   "cell_type": "code",
   "execution_count": 56,
   "id": "079fb207",
   "metadata": {
    "ExecuteTime": {
     "end_time": "2022-05-26T22:40:21.711306Z",
     "start_time": "2022-05-26T22:40:21.349816Z"
    }
   },
   "outputs": [
    {
     "data": {
      "text/plain": [
       "([<matplotlib.patches.Wedge at 0x24a4e82ec40>,\n",
       "  <matplotlib.patches.Wedge at 0x24a4e83b400>,\n",
       "  <matplotlib.patches.Wedge at 0x24a4e83ba00>,\n",
       "  <matplotlib.patches.Wedge at 0x24a4e84b160>],\n",
       " [Text(0.14366965333381534, 1.0905773841002488, 'Positive'),\n",
       "  Text(-0.8882348187568564, -0.6488751087443366, 'Negative'),\n",
       "  Text(0.7561389577669066, -0.7989079274529552, 'Neutral'),\n",
       "  Text(1.0999912025322274, -0.004399358101414309, '0')],\n",
       " [Text(0.07836526545480836, 0.5948603913274083, '45.8%'),\n",
       "  Text(-0.4844917193219216, -0.35393187749691085, '28.4%'),\n",
       "  Text(0.41243943150922174, -0.4357679604288846, '25.6%'),\n",
       "  Text(0.5999952013812149, -0.002399649873498714, '0.1%')])"
      ]
     },
     "execution_count": 56,
     "metadata": {},
     "output_type": "execute_result"
    },
    {
     "data": {
      "image/png": "[encoded data removed]",
      "text/plain": [
       "<Figure size 1080x504 with 3 Axes>"
      ]
     },
     "metadata": {},
     "output_type": "display_data"
    }
   ],
   "source": [
    "%matplotlib inline\n",
    "\n",
    "plt.figure(figsize=(15,7))\n",
    "plt.subplot(1,3,1)\n",
    "plt.title(\"TextBlob\")\n",
    "plt.pie(tb_counts.values, labels = tb_counts.index, explode = (0, 0, 0.25), autopct='%1.1f%%', shadow=False)\n",
    "plt.subplot(1,3,2)\n",
    "plt.title(\"VADER\")\n",
    "plt.pie(vader_counts.values, labels = vader_counts.index, explode = (0, 0, 0.25), autopct='%1.1f%%', shadow=False)\n",
    "plt.subplot(1,3,3)\n",
    "plt.title(\"SentiWordNet\")\n",
    "plt.pie(swn_counts.values, labels = swn_counts.index, autopct='%1.1f%%', shadow=False)"
   ]
  },
  {
   "cell_type": "code",
   "execution_count": 57,
   "id": "b8ccc45f",
   "metadata": {
    "ExecuteTime": {
     "end_time": "2022-05-26T22:40:22.946479Z",
     "start_time": "2022-05-26T22:40:22.932489Z"
    }
   },
   "outputs": [
    {
     "name": "stdout",
     "output_type": "stream",
     "text": [
      "6.0\n",
      "4.0\n"
     ]
    }
   ],
   "source": [
    "plot_size = plt.rcParams[\"figure.figsize\"] \n",
    "print(plot_size[0]) \n",
    "print(plot_size[1])\n",
    "\n",
    "plot_size[0] = 8\n",
    "plot_size[1] = 6\n",
    "plt.rcParams[\"figure.figsize\"] = plot_size"
   ]
  },
  {
   "cell_type": "code",
   "execution_count": 58,
   "id": "16430f60",
   "metadata": {
    "ExecuteTime": {
     "end_time": "2022-05-26T22:40:24.452573Z",
     "start_time": "2022-05-26T22:40:24.220617Z"
    }
   },
   "outputs": [
    {
     "data": {
      "text/plain": [
       "<AxesSubplot:ylabel='candidate'>"
      ]
     },
     "execution_count": 58,
     "metadata": {},
     "output_type": "execute_result"
    },
    {
     "data": {
      "image/png": "[encoded data removed]",
      "text/plain": [
       "<Figure size 576x432 with 1 Axes>"
      ]
     },
     "metadata": {},
     "output_type": "display_data"
    }
   ],
   "source": [
    "onlypo.candidate.value_counts().plot(kind='pie', autopct='%1.0f%%')"
   ]
  },
  {
   "cell_type": "code",
   "execution_count": 59,
   "id": "7b977394",
   "metadata": {
    "ExecuteTime": {
     "end_time": "2022-05-26T22:40:25.832684Z",
     "start_time": "2022-05-26T22:40:25.684758Z"
    }
   },
   "outputs": [
    {
     "data": {
      "text/plain": [
       "<AxesSubplot:ylabel='sentiment'>"
      ]
     },
     "execution_count": 59,
     "metadata": {},
     "output_type": "execute_result"
    },
    {
     "data": {
      "image/png": "[encoded data removed]",
      "text/plain": [
       "<Figure size 576x432 with 1 Axes>"
      ]
     },
     "metadata": {},
     "output_type": "display_data"
    }
   ],
   "source": [
    "onlypo.sentiment.value_counts().plot(kind='pie', autopct='%1.0f%%', colors=[\"red\", \"yellow\", \"green\"])"
   ]
  },
  {
   "cell_type": "code",
   "execution_count": 60,
   "id": "b0aee5f2",
   "metadata": {
    "ExecuteTime": {
     "end_time": "2022-05-26T22:40:30.946029Z",
     "start_time": "2022-05-26T22:40:30.589247Z"
    }
   },
   "outputs": [
    {
     "data": {
      "text/plain": [
       "<AxesSubplot:xlabel='candidate'>"
      ]
     },
     "execution_count": 60,
     "metadata": {},
     "output_type": "execute_result"
    },
    {
     "data": {
      "image/png": "[encoded data removed]",
      "text/plain": [
       "<Figure size 576x432 with 1 Axes>"
      ]
     },
     "metadata": {
      "needs_background": "light"
     },
     "output_type": "display_data"
    }
   ],
   "source": [
    "po_sentiment = onlypo.groupby(['candidate', 'sentiment']).sentiment.count().unstack()\n",
    "po_sentiment.plot(kind='bar')"
   ]
  },
  {
   "cell_type": "code",
   "execution_count": 61,
   "id": "76458622",
   "metadata": {
    "ExecuteTime": {
     "end_time": "2022-05-26T22:40:34.493965Z",
     "start_time": "2022-05-26T22:40:33.996271Z"
    }
   },
   "outputs": [
    {
     "data": {
      "text/plain": [
       "<AxesSubplot:xlabel='sentiment', ylabel='sentiment_confidence'>"
      ]
     },
     "execution_count": 61,
     "metadata": {},
     "output_type": "execute_result"
    },
    {
     "data": {
      "image/png": "[encoded data removed]",
      "text/plain": [
       "<Figure size 576x432 with 1 Axes>"
      ]
     },
     "metadata": {
      "needs_background": "light"
     },
     "output_type": "display_data"
    }
   ],
   "source": [
    "sns.barplot(x='sentiment', y='sentiment_confidence' , data=onlypo)"
   ]
  },
  {
   "cell_type": "code",
   "execution_count": 62,
   "id": "fa154fa8",
   "metadata": {
    "ExecuteTime": {
     "end_time": "2022-05-26T22:40:36.241831Z",
     "start_time": "2022-05-26T22:40:36.181865Z"
    }
   },
   "outputs": [
    {
     "data": {
      "text/html": [
       "<div>\n",
       "<style scoped>\n",
       "    .dataframe tbody tr th:only-of-type {\n",
       "        vertical-align: middle;\n",
       "    }\n",
       "\n",
       "    .dataframe tbody tr th {\n",
       "        vertical-align: top;\n",
       "    }\n",
       "\n",
       "    .dataframe thead th {\n",
       "        text-align: right;\n",
       "    }\n",
       "</style>\n",
       "<table border=\"1\" class=\"dataframe\">\n",
       "  <thead>\n",
       "    <tr style=\"text-align: right;\">\n",
       "      <th></th>\n",
       "      <th>candidate</th>\n",
       "      <th>sentiment</th>\n",
       "      <th>sentiment_confidence</th>\n",
       "      <th>name</th>\n",
       "      <th>retweet_count</th>\n",
       "      <th>text</th>\n",
       "      <th>tweet_created</th>\n",
       "      <th>user_timezone</th>\n",
       "      <th>Limpio</th>\n",
       "      <th>POS</th>\n",
       "      <th>Lemma</th>\n",
       "    </tr>\n",
       "  </thead>\n",
       "  <tbody>\n",
       "    <tr>\n",
       "      <th>1</th>\n",
       "      <td>Scott Walker</td>\n",
       "      <td>Positive</td>\n",
       "      <td>0.6333</td>\n",
       "      <td>PeacefulQuest</td>\n",
       "      <td>26</td>\n",
       "      <td>RT @ScottWalker: Didn't catch the full #GOPdeb...</td>\n",
       "      <td>2015-08-07 09:54:46 -0700</td>\n",
       "      <td>NaN</td>\n",
       "      <td>RT ScottWalker Didn t catch the full GOPdebate...</td>\n",
       "      <td>[(RT, n), (ScottWalker, n), (catch, v), (full,...</td>\n",
       "      <td>RT ScottWalker catch full GOPdebate last nig...</td>\n",
       "    </tr>\n",
       "    <tr>\n",
       "      <th>4</th>\n",
       "      <td>Donald Trump</td>\n",
       "      <td>Positive</td>\n",
       "      <td>0.7045</td>\n",
       "      <td>sharonDay5</td>\n",
       "      <td>156</td>\n",
       "      <td>RT @DanScavino: #GOPDebate w/ @realDonaldTrump...</td>\n",
       "      <td>2015-08-07 09:54:45 -0700</td>\n",
       "      <td>Arizona</td>\n",
       "      <td>RT DanScavino GOPDebate w realDonaldTrump deli...</td>\n",
       "      <td>[(RT, n), (DanScavino, n), (GOPDebate, n), (w,...</td>\n",
       "      <td>RT DanScavino GOPDebate w realDonaldTrump de...</td>\n",
       "    </tr>\n",
       "    <tr>\n",
       "      <th>5</th>\n",
       "      <td>Ted Cruz</td>\n",
       "      <td>Positive</td>\n",
       "      <td>0.6332</td>\n",
       "      <td>DRJohnson11</td>\n",
       "      <td>228</td>\n",
       "      <td>RT @GregAbbott_TX: @TedCruz: \"On my first day ...</td>\n",
       "      <td>2015-08-07 09:54:44 -0700</td>\n",
       "      <td>Central Time (US &amp; Canada)</td>\n",
       "      <td>RT GregAbbott TX TedCruz On my first day I wil...</td>\n",
       "      <td>[(RT, n), (GregAbbott, n), (TX, n), (TedCruz, ...</td>\n",
       "      <td>RT GregAbbott TX TedCruz first day rescind e...</td>\n",
       "    </tr>\n",
       "    <tr>\n",
       "      <th>8</th>\n",
       "      <td>Ben Carson</td>\n",
       "      <td>Negative</td>\n",
       "      <td>0.6889</td>\n",
       "      <td>kengpdx</td>\n",
       "      <td>0</td>\n",
       "      <td>Deer in the headlights RT @lizzwinstead: Ben C...</td>\n",
       "      <td>2015-08-07 09:54:44 -0700</td>\n",
       "      <td>Pacific Time (US &amp; Canada)</td>\n",
       "      <td>Deer in the headlights RT lizzwinstead Ben Car...</td>\n",
       "      <td>[(Deer, n), (headlights, n), (RT, n), (lizzwin...</td>\n",
       "      <td>Deer headlight RT lizzwinstead Ben Carson ma...</td>\n",
       "    </tr>\n",
       "    <tr>\n",
       "      <th>10</th>\n",
       "      <td>Donald Trump</td>\n",
       "      <td>Negative</td>\n",
       "      <td>1.0000</td>\n",
       "      <td>jnjsmom</td>\n",
       "      <td>0</td>\n",
       "      <td>@JGreenDC @realDonaldTrump In all fairness #Bi...</td>\n",
       "      <td>2015-08-07 09:54:42 -0700</td>\n",
       "      <td>Central Time (US &amp; Canada)</td>\n",
       "      <td>JGreenDC realDonaldTrump In all fairness Bill...</td>\n",
       "      <td>[(JGreenDC, n), (realDonaldTrump, n), (fairnes...</td>\n",
       "      <td>JGreenDC realDonaldTrump fairness BillClinto...</td>\n",
       "    </tr>\n",
       "  </tbody>\n",
       "</table>\n",
       "</div>"
      ],
      "text/plain": [
       "       candidate sentiment  sentiment_confidence           name  \\\n",
       "1   Scott Walker  Positive                0.6333  PeacefulQuest   \n",
       "4   Donald Trump  Positive                0.7045     sharonDay5   \n",
       "5       Ted Cruz  Positive                0.6332    DRJohnson11   \n",
       "8     Ben Carson  Negative                0.6889        kengpdx   \n",
       "10  Donald Trump  Negative                1.0000        jnjsmom   \n",
       "\n",
       "    retweet_count                                               text  \\\n",
       "1              26  RT @ScottWalker: Didn't catch the full #GOPdeb...   \n",
       "4             156  RT @DanScavino: #GOPDebate w/ @realDonaldTrump...   \n",
       "5             228  RT @GregAbbott_TX: @TedCruz: \"On my first day ...   \n",
       "8               0  Deer in the headlights RT @lizzwinstead: Ben C...   \n",
       "10              0  @JGreenDC @realDonaldTrump In all fairness #Bi...   \n",
       "\n",
       "                tweet_created               user_timezone  \\\n",
       "1   2015-08-07 09:54:46 -0700                         NaN   \n",
       "4   2015-08-07 09:54:45 -0700                     Arizona   \n",
       "5   2015-08-07 09:54:44 -0700  Central Time (US & Canada)   \n",
       "8   2015-08-07 09:54:44 -0700  Pacific Time (US & Canada)   \n",
       "10  2015-08-07 09:54:42 -0700  Central Time (US & Canada)   \n",
       "\n",
       "                                               Limpio  \\\n",
       "1   RT ScottWalker Didn t catch the full GOPdebate...   \n",
       "4   RT DanScavino GOPDebate w realDonaldTrump deli...   \n",
       "5   RT GregAbbott TX TedCruz On my first day I wil...   \n",
       "8   Deer in the headlights RT lizzwinstead Ben Car...   \n",
       "10   JGreenDC realDonaldTrump In all fairness Bill...   \n",
       "\n",
       "                                                  POS  \\\n",
       "1   [(RT, n), (ScottWalker, n), (catch, v), (full,...   \n",
       "4   [(RT, n), (DanScavino, n), (GOPDebate, n), (w,...   \n",
       "5   [(RT, n), (GregAbbott, n), (TX, n), (TedCruz, ...   \n",
       "8   [(Deer, n), (headlights, n), (RT, n), (lizzwin...   \n",
       "10  [(JGreenDC, n), (realDonaldTrump, n), (fairnes...   \n",
       "\n",
       "                                                Lemma  \n",
       "1     RT ScottWalker catch full GOPdebate last nig...  \n",
       "4     RT DanScavino GOPDebate w realDonaldTrump de...  \n",
       "5     RT GregAbbott TX TedCruz first day rescind e...  \n",
       "8     Deer headlight RT lizzwinstead Ben Carson ma...  \n",
       "10    JGreenDC realDonaldTrump fairness BillClinto...  "
      ]
     },
     "execution_count": 62,
     "metadata": {},
     "output_type": "execute_result"
    }
   ],
   "source": [
    "onlypo.head()"
   ]
  },
  {
   "cell_type": "code",
   "execution_count": 63,
   "id": "899e467a",
   "metadata": {
    "ExecuteTime": {
     "end_time": "2022-05-26T22:40:38.794041Z",
     "start_time": "2022-05-26T22:40:38.781051Z"
    }
   },
   "outputs": [],
   "source": [
    "features = onlypo.iloc[:, 5].values\n",
    "labels = onlypo.iloc[:, 1].values"
   ]
  },
  {
   "cell_type": "code",
   "execution_count": 64,
   "id": "f1635ae7",
   "metadata": {
    "ExecuteTime": {
     "end_time": "2022-05-26T22:40:40.635604Z",
     "start_time": "2022-05-26T22:40:40.350213Z"
    }
   },
   "outputs": [],
   "source": [
    "processed_features = []\n",
    "\n",
    "for sentence in range(0, len(features)):\n",
    "    # Remove all the special characters\n",
    "    processed_feature = re.sub(r'\\W', ' ', str(features[sentence]))\n",
    "    # remove all single characters\n",
    "    processed_feature= re.sub(r'\\s+[a-zA-Z]\\s+', ' ', processed_feature)\n",
    "    # Remove single characters from the start\n",
    "    processed_feature = re.sub(r'\\^[a-zA-Z]\\s+', ' ', processed_feature) \n",
    "    # Substituting multiple spaces with single space\n",
    "    processed_feature = re.sub(r'\\s+', ' ', processed_feature, flags=re.I)\n",
    "    # Removing prefixed 'b'\n",
    "    processed_feature = re.sub(r'^b\\s+', '', processed_feature)\n",
    "    # Converting to Lowercase\n",
    "    processed_feature = processed_feature.lower()\n",
    "\n",
    "    processed_features.append(processed_feature)"
   ]
  },
  {
   "cell_type": "code",
   "execution_count": 65,
   "id": "e401318c",
   "metadata": {
    "ExecuteTime": {
     "end_time": "2022-05-26T22:40:41.938697Z",
     "start_time": "2022-05-26T22:40:41.726346Z"
    }
   },
   "outputs": [],
   "source": [
    "vectorizer = TfidfVectorizer (max_features=2500, min_df=7, max_df=0.8, stop_words=stopwords.words('english'))\n",
    "processed_features = vectorizer.fit_transform(processed_features).toarray()"
   ]
  },
  {
   "cell_type": "code",
   "execution_count": 66,
   "id": "41d010c0",
   "metadata": {
    "ExecuteTime": {
     "end_time": "2022-05-26T22:40:43.842509Z",
     "start_time": "2022-05-26T22:40:43.782548Z"
    }
   },
   "outputs": [],
   "source": [
    "X_train, X_test, y_train, y_test = train_test_split(processed_features, labels, test_size=0.2, random_state=0)"
   ]
  },
  {
   "cell_type": "code",
   "execution_count": 67,
   "id": "935277d1",
   "metadata": {
    "ExecuteTime": {
     "end_time": "2022-05-26T22:41:09.189178Z",
     "start_time": "2022-05-26T22:40:45.550722Z"
    }
   },
   "outputs": [
    {
     "data": {
      "text/plain": [
       "RandomForestClassifier(n_estimators=200, random_state=0)"
      ]
     },
     "execution_count": 67,
     "metadata": {},
     "output_type": "execute_result"
    }
   ],
   "source": [
    "text_classifier = RandomForestClassifier(n_estimators=200, random_state=0)\n",
    "text_classifier.fit(X_train, y_train)"
   ]
  },
  {
   "cell_type": "code",
   "execution_count": 68,
   "id": "5b06a295",
   "metadata": {
    "ExecuteTime": {
     "end_time": "2022-05-26T22:41:12.489319Z",
     "start_time": "2022-05-26T22:41:12.233351Z"
    }
   },
   "outputs": [],
   "source": [
    "predictions = text_classifier.predict(X_test)"
   ]
  },
  {
   "cell_type": "code",
   "execution_count": 69,
   "id": "0ed2d0fa",
   "metadata": {
    "ExecuteTime": {
     "end_time": "2022-05-26T22:41:13.507427Z",
     "start_time": "2022-05-26T22:41:13.441471Z"
    }
   },
   "outputs": [
    {
     "name": "stdout",
     "output_type": "stream",
     "text": [
      "[[679  24  41]\n",
      " [153  25  29]\n",
      " [147   6 153]]\n",
      "              precision    recall  f1-score   support\n",
      "\n",
      "    Negative       0.69      0.91      0.79       744\n",
      "     Neutral       0.45      0.12      0.19       207\n",
      "    Positive       0.69      0.50      0.58       306\n",
      "\n",
      "    accuracy                           0.68      1257\n",
      "   macro avg       0.61      0.51      0.52      1257\n",
      "weighted avg       0.65      0.68      0.64      1257\n",
      "\n",
      "0.6817820206841687\n"
     ]
    }
   ],
   "source": [
    "print(confusion_matrix(y_test,predictions))\n",
    "print(classification_report(y_test,predictions))\n",
    "print(accuracy_score(y_test, predictions))"
   ]
  },
  {
   "cell_type": "markdown",
   "id": "e7a4eb27",
   "metadata": {},
   "source": [
    "## Conclusiones"
   ]
  },
  {
   "cell_type": "markdown",
   "id": "8a94e2fb",
   "metadata": {},
   "source": [
    "#### Se realizó un análisis de sentimientos utilizando las tres herramientas sobre toda la BD y se obtuvieron diferentes resultados en cada caso. Se repitió el análisis utilizando las tres herramientas con la BD reducida (sólo con nombres de políticos) y los resultados obtenidos fueron similares.\n",
    "#### Una vez aplicado a los políticos con nombre, notamos que Donald Trump fue quien recibió la mayor cantidad de sentimientos negativos, siendo este el sentimiento con mayor confiabilidad. \n",
    "#### Se aplicó a ambos conjuntos de datos la red neuronal y el accuracy fue similar: 68%"
   ]
  },
  {
   "cell_type": "code",
   "execution_count": null,
   "id": "edcd2c29",
   "metadata": {},
   "outputs": [],
   "source": []
  }
 ],
 "metadata": {
  "kernelspec": {
   "display_name": "Python 3 (ipykernel)",
   "language": "python",
   "name": "python3"
  },
  "language_info": {
   "codemirror_mode": {
    "name": "ipython",
    "version": 3
   },
   "file_extension": ".py",
   "mimetype": "text/x-python",
   "name": "python",
   "nbconvert_exporter": "python",
   "pygments_lexer": "ipython3",
   "version": "3.8.0"
  },
  "toc": {
   "base_numbering": 1,
   "nav_menu": {},
   "number_sections": true,
   "sideBar": true,
   "skip_h1_title": false,
   "title_cell": "Table of Contents",
   "title_sidebar": "Contents",
   "toc_cell": false,
   "toc_position": {},
   "toc_section_display": true,
   "toc_window_display": false
  }
 },
 "nbformat": 4,
 "nbformat_minor": 5
}
